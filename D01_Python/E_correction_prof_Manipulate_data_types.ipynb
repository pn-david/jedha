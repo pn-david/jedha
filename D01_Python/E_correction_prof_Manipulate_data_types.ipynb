{
 "cells": [
  {
   "cell_type": "markdown",
   "metadata": {},
   "source": [
    "# Password"
   ]
  },
  {
   "cell_type": "code",
   "execution_count": null,
   "metadata": {},
   "outputs": [
    {
     "name": "stdout",
     "output_type": "stream",
     "text": [
      "Password incorrect.\n",
      "You've run out of attempts.\n"
     ]
    }
   ],
   "source": [
    "correct_password = 'pass123'\n",
    "attempted_password = input(\"Input your password:\")\n",
    "\n",
    "errors = 0\n",
    "while attempted_password != correct_password and errors < 2:\n",
    "    print(\"Password incorrect.\")\n",
    "    errors += 1 # this is equivalent to errors = errors + 1\n",
    "    attempted_password = input(\"Input your password:\")\n",
    "\n",
    "if errors >= 2:\n",
    "    print(\"You've run out of attempts.\")\n",
    "else:\n",
    "    print(\"Correct password!\")"
   ]
  },
  {
   "cell_type": "markdown",
   "metadata": {},
   "source": [
    "and operator boolean\n",
    "\n",
    "True False\n",
    "\n",
    "\n",
    "AND\n",
    "0 and 0 = 0\n",
    "0 and 1 = 0\n",
    "1 and 0 = 0\n",
    "1 and 1 = 1\n",
    "\n",
    "or\n",
    "0 and 0 = 0\n",
    "0 and 1 = 1\n",
    "1 and 0 = 1\n",
    "1 and 1 = 1"
   ]
  },
  {
   "cell_type": "markdown",
   "metadata": {
    "colab_type": "text",
    "id": "kFGKKN4vbaaE"
   },
   "source": [
    "# Lists"
   ]
  },
  {
   "cell_type": "markdown",
   "metadata": {
    "colab_type": "text",
    "id": "UlVSgMBObdHP"
   },
   "source": [
    "Here is a list [\"Hello\", \"I\", \"Michel\", \"am\"]\n",
    "\n",
    "1. Store this list in a variable we'll call michel\n",
    "2. Make a loop so that the console returns each of the items in the list"
   ]
  },
  {
   "cell_type": "code",
   "execution_count": 25,
   "metadata": {
    "colab": {
     "base_uri": "https://localhost:8080/",
     "height": 88
    },
    "colab_type": "code",
    "id": "RnQP07OQbJZy",
    "outputId": "e4a60cd9-35dc-49d8-e0e4-e66e7db017e7"
   },
   "outputs": [
    {
     "name": "stdout",
     "output_type": "stream",
     "text": [
      "Hello\n",
      "I\n",
      "Michel\n",
      "am\n"
     ]
    }
   ],
   "source": [
    "michel = ['Hello', 'I', 'Michel', 'am']\n",
    "\n",
    "for word in michel:\n",
    "    print(word)"
   ]
  },
  {
   "cell_type": "markdown",
   "metadata": {
    "colab_type": "text",
    "id": "xiFEi_IIbs7l"
   },
   "source": [
    "We have a problem with this sentence, two words are reversed. Find a way to invert the last item with the next-to-last item..."
   ]
  },
  {
   "cell_type": "code",
   "execution_count": 31,
   "metadata": {},
   "outputs": [
    {
     "data": {
      "text/plain": [
       "['Hello', 'I', 'am', 'Michel']"
      ]
     },
     "execution_count": 31,
     "metadata": {},
     "output_type": "execute_result"
    }
   ],
   "source": [
    "test_list = ['Hello', 'I', 'Michel', 'am']\n",
    "\n",
    "popped_word = test_list.pop(2)\n",
    "test_list.append(popped_word)\n",
    "test_list"
   ]
  },
  {
   "cell_type": "code",
   "execution_count": 36,
   "metadata": {},
   "outputs": [
    {
     "data": {
      "text/plain": [
       "['Hello', 'I', 'am', 'Michel']"
      ]
     },
     "execution_count": 36,
     "metadata": {},
     "output_type": "execute_result"
    }
   ],
   "source": [
    "test_list = ['Hello', 'I', 'Michel', 'am']\n",
    "\n",
    "removed_word = test_list[2]\n",
    "del(test_list[2])\n",
    "test_list.append(removed_word)\n",
    "test_list"
   ]
  },
  {
   "cell_type": "code",
   "execution_count": 37,
   "metadata": {},
   "outputs": [
    {
     "data": {
      "text/plain": [
       "['Hello', 'I', 'am', 'Michel']"
      ]
     },
     "execution_count": 37,
     "metadata": {},
     "output_type": "execute_result"
    }
   ],
   "source": [
    "test_list = ['Hello', 'I', 'Michel', 'am']\n",
    "\n",
    "removed_word = test_list[2]\n",
    "last_word = test_list[3]\n",
    "test_list[2] = last_word\n",
    "test_list[3] = removed_word\n",
    "test_list"
   ]
  },
  {
   "cell_type": "code",
   "execution_count": 39,
   "metadata": {},
   "outputs": [
    {
     "data": {
      "text/plain": [
       "['Hello', 'I', 'Michel', 'Robert', 'am']"
      ]
     },
     "execution_count": 39,
     "metadata": {},
     "output_type": "execute_result"
    }
   ],
   "source": [
    "test_list = ['Hello', 'I', 'Michel', 'am']\n",
    "\n",
    "word_to_insert = 'Robert'\n",
    "test_list.insert(3, word_to_insert)\n",
    "test_list"
   ]
  },
  {
   "cell_type": "markdown",
   "metadata": {
    "colab_type": "text",
    "id": "hrZ1HLVneoRC"
   },
   "source": [
    "Here's a list of ages: [12, 16, 34, 58, 9].\n",
    "\n",
    "1. Store this age list in a variable that we'll call: \n",
    "\n",
    "```\n",
    "age\n",
    "```\n",
    "\n",
    "2. We would like this list to be arranged in ascending order, how do we do that?"
   ]
  },
  {
   "cell_type": "code",
   "execution_count": 2,
   "metadata": {
    "colab": {
     "base_uri": "https://localhost:8080/",
     "height": 34
    },
    "colab_type": "code",
    "id": "vRrlfGsQb0TA",
    "outputId": "6f19757d-d294-4a9f-c150-9bb2ca06c481"
   },
   "outputs": [
    {
     "data": {
      "text/plain": [
       "[9, 12, 16, 34, 58]"
      ]
     },
     "execution_count": 2,
     "metadata": {},
     "output_type": "execute_result"
    }
   ],
   "source": [
    "ages = [12, 16, 34, 58, 9]\n",
    "\n",
    "ages.sort()\n",
    "sorted(ages)\n",
    "ages"
   ]
  },
  {
   "cell_type": "code",
   "execution_count": 58,
   "metadata": {},
   "outputs": [
    {
     "data": {
      "text/plain": [
       "[9, 12, 16, 34, 58]"
      ]
     },
     "execution_count": 58,
     "metadata": {},
     "output_type": "execute_result"
    }
   ],
   "source": [
    "ages = [12, 16, 34, 58, 9]\n",
    "sorted(ages)"
   ]
  },
  {
   "cell_type": "code",
   "execution_count": 61,
   "metadata": {},
   "outputs": [
    {
     "data": {
      "text/plain": [
       "[9, 12, 16, 34, 58]"
      ]
     },
     "execution_count": 61,
     "metadata": {},
     "output_type": "execute_result"
    }
   ],
   "source": [
    "ages = [12, 16, 34, 58, 9]\n",
    "age_to_move = ages.pop(4)\n",
    "ages.insert(0, age_to_move)\n",
    "ages"
   ]
  },
  {
   "cell_type": "code",
   "execution_count": 65,
   "metadata": {},
   "outputs": [
    {
     "data": {
      "text/plain": [
       "[58, 34, 16, 12, 9]"
      ]
     },
     "execution_count": 65,
     "metadata": {},
     "output_type": "execute_result"
    }
   ],
   "source": [
    "ages[::-1]"
   ]
  },
  {
   "cell_type": "code",
   "execution_count": 67,
   "metadata": {},
   "outputs": [
    {
     "data": {
      "text/plain": [
       "[58, 34, 16, 12, 9]"
      ]
     },
     "execution_count": 67,
     "metadata": {},
     "output_type": "execute_result"
    }
   ],
   "source": [
    "sorted(ages, reverse=True)"
   ]
  },
  {
   "cell_type": "markdown",
   "metadata": {
    "colab_type": "text",
    "id": "hyAAuD2-fFMD"
   },
   "source": [
    "# Dictionaries"
   ]
  },
  {
   "cell_type": "markdown",
   "metadata": {
    "colab_type": "text",
    "id": "3-kpKLpmfKGM"
   },
   "source": [
    "We told you that dictionaries are very useful with APIs, so let's try to use the Star Wars API.\n",
    "\n",
    "1. In your text editor, write:\n",
    "\n",
    "```\n",
    "import requests\n",
    "request = requests.get(\"https://swapi.dev/api/people/1/\")\n",
    "dic = request.json()\n",
    "```\n",
    "_You don't need to download anything_\n",
    "\n",
    "2. This will make it possible to call the Star Wars API to store it on a dictionary format in a variable called _dic_.\n",
    "\n",
    "3. See what's in the dictionary via a loop\n",
    "\n",
    "4. We'd like to make a nice phrase to describe the character like this: \n",
    "\n",
    "`“{{name}} is {{height}} cm tall and weighs {{mass}} kg. He was born in {{birth_year}}”`\n"
   ]
  },
  {
   "cell_type": "code",
   "execution_count": 16,
   "metadata": {
    "colab": {
     "base_uri": "https://localhost:8080/",
     "height": 34
    },
    "colab_type": "code",
    "id": "0AWON7CZf_aI",
    "outputId": "8ad3784a-0d9e-4a5a-ef05-9050de332da1"
   },
   "outputs": [],
   "source": [
    "import requests\n",
    "request = requests.get(\"https://swapi.py4e.com/api//people/1/\")\n",
    "dic = request.json()"
   ]
  },
  {
   "cell_type": "code",
   "execution_count": 7,
   "metadata": {},
   "outputs": [
    {
     "name": "stdout",
     "output_type": "stream",
     "text": [
      "Luke Skywalker is 172 cm tall and weighs 77 kg. He was born in 19BBY\n"
     ]
    }
   ],
   "source": [
    "print(f\"{dic['name']} is {dic['height']} cm tall and weighs {dic['mass']} kg. He was born in {dic['birth_year']}\")"
   ]
  },
  {
   "cell_type": "code",
   "execution_count": 17,
   "metadata": {},
   "outputs": [
    {
     "data": {
      "text/plain": [
       "{'name': 'Luke Skywalker',\n",
       " 'height': '172',\n",
       " 'mass': '77',\n",
       " 'hair_color': 'blond',\n",
       " 'skin_color': 'fair',\n",
       " 'eye_color': 'blue',\n",
       " 'birth_year': '19BBY',\n",
       " 'gender': 'male',\n",
       " 'homeworld': 'https://swapi.py4e.com/api/planets/1/',\n",
       " 'films': ['https://swapi.py4e.com/api/films/1/',\n",
       "  'https://swapi.py4e.com/api/films/2/',\n",
       "  'https://swapi.py4e.com/api/films/3/',\n",
       "  'https://swapi.py4e.com/api/films/6/',\n",
       "  'https://swapi.py4e.com/api/films/7/'],\n",
       " 'species': ['https://swapi.py4e.com/api/species/1/'],\n",
       " 'vehicles': ['https://swapi.py4e.com/api/vehicles/14/',\n",
       "  'https://swapi.py4e.com/api/vehicles/30/'],\n",
       " 'starships': ['https://swapi.py4e.com/api/starships/12/',\n",
       "  'https://swapi.py4e.com/api/starships/22/'],\n",
       " 'created': '2014-12-09T13:50:51.644000Z',\n",
       " 'edited': '2014-12-20T21:17:56.891000Z',\n",
       " 'url': 'https://swapi.py4e.com/api/people/1/'}"
      ]
     },
     "execution_count": 17,
     "metadata": {},
     "output_type": "execute_result"
    }
   ],
   "source": [
    "dic"
   ]
  },
  {
   "cell_type": "code",
   "execution_count": 19,
   "metadata": {},
   "outputs": [
    {
     "name": "stdout",
     "output_type": "stream",
     "text": [
      "Luke Skywalker is 172 cm tall and weighs 77 kg. He was born in 19BBY\n",
      "C-3PO is 167 cm tall and weighs 75 kg. He was born in 112BBY\n",
      "R2-D2 is 96 cm tall and weighs 32 kg. He was born in 33BBY\n",
      "Darth Vader is 202 cm tall and weighs 136 kg. He was born in 41.9BBY\n",
      "Leia Organa is 150 cm tall and weighs 49 kg. She was born in 19BBY\n",
      "Owen Lars is 178 cm tall and weighs 120 kg. He was born in 52BBY\n",
      "Beru Whitesun lars is 165 cm tall and weighs 75 kg. She was born in 47BBY\n",
      "R5-D4 is 97 cm tall and weighs 32 kg. He was born in unknown\n",
      "Biggs Darklighter is 183 cm tall and weighs 84 kg. He was born in 24BBY\n",
      "Obi-Wan Kenobi is 182 cm tall and weighs 77 kg. He was born in 57BBY\n",
      "Anakin Skywalker is 188 cm tall and weighs 84 kg. He was born in 41.9BBY\n",
      "Wilhuff Tarkin is 180 cm tall and weighs unknown kg. He was born in 64BBY\n",
      "Chewbacca is 228 cm tall and weighs 112 kg. He was born in 200BBY\n",
      "Han Solo is 180 cm tall and weighs 80 kg. He was born in 29BBY\n",
      "Greedo is 173 cm tall and weighs 74 kg. He was born in 44BBY\n"
     ]
    }
   ],
   "source": [
    "for i in range(1, 16):\n",
    "    # character 0 does not exist, so we start at 1\n",
    "    request = requests.get(f\"https://swapi.py4e.com/api//people/{i}/\")\n",
    "    dic = request.json()\n",
    "\n",
    "    print(f\"{dic['name']} is {dic['height']} cm tall and weighs {dic['mass']} kg.\", end=' ')\n",
    "\n",
    "    if dic['gender'] == 'female':\n",
    "        print(f\"She was born in {dic['birth_year']}\")\n",
    "    else:\n",
    "        print(f\"He was born in {dic['birth_year']}\")"
   ]
  },
  {
   "cell_type": "markdown",
   "metadata": {
    "colab_type": "text",
    "id": "aQsKk1BKg4Mt"
   },
   "source": [
    "# Slices"
   ]
  },
  {
   "cell_type": "markdown",
   "metadata": {
    "colab_type": "text",
    "id": "0PIM5zcfg94N"
   },
   "source": [
    "We have the following dataset: `kilometres_travelled = [50, 10, 100, 25, 1000, 21, 12,30]`.\n",
    " \n",
    "1. This variable represents a list of kilometres travelled every morning by 8 users to work.\n",
    "2. Using a loop, calculate the total average of all the users' trips\n",
    "3. Is this average representative of what all individuals really go through? Why do you think so?"
   ]
  },
  {
   "cell_type": "code",
   "execution_count": null,
   "metadata": {
    "colab": {
     "base_uri": "https://localhost:8080/",
     "height": 34
    },
    "colab_type": "code",
    "id": "GbysQcOhgfhF",
    "outputId": "2a436dee-11b0-4f76-8472-c720184fa356"
   },
   "outputs": [],
   "source": [
    "kilometres_travelled = [50, 10, 100, 25, 1000, 21, 12, 30]"
   ]
  },
  {
   "cell_type": "code",
   "execution_count": 20,
   "metadata": {},
   "outputs": [
    {
     "name": "stdout",
     "output_type": "stream",
     "text": [
      "156.0\n"
     ]
    }
   ],
   "source": [
    "kilometres_travelled = [50, 10, 100, 25, 1000, 21, 12, 30]\n",
    "\n",
    "n = len(kilometres_travelled)\n",
    "sum = 0\n",
    "for value in kilometres_travelled:\n",
    "    sum += value\n",
    "\n",
    "avg = sum / n\n",
    "print(avg)"
   ]
  },
  {
   "cell_type": "markdown",
   "metadata": {
    "colab_type": "text",
    "id": "VL5vB43YhJV5"
   },
   "source": [
    "4. Change the variable kilometers_travelled to have a more representative average\n"
   ]
  },
  {
   "cell_type": "code",
   "execution_count": null,
   "metadata": {},
   "outputs": [],
   "source": []
  }
 ],
 "metadata": {
  "colab": {
   "collapsed_sections": [],
   "name": "Manipuler des collections de données - SOLUTIONS S1-2A.ipynb",
   "provenance": []
  },
  "kernelspec": {
   "display_name": "base",
   "language": "python",
   "name": "python3"
  },
  "language_info": {
   "codemirror_mode": {
    "name": "ipython",
    "version": 3
   },
   "file_extension": ".py",
   "mimetype": "text/x-python",
   "name": "python",
   "nbconvert_exporter": "python",
   "pygments_lexer": "ipython3",
   "version": "3.12.7"
  }
 },
 "nbformat": 4,
 "nbformat_minor": 1
}
