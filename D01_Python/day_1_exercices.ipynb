{
 "cells": [
  {
   "cell_type": "code",
   "execution_count": 12,
   "id": "34abd0a8",
   "metadata": {},
   "outputs": [
    {
     "name": "stdout",
     "output_type": "stream",
     "text": [
      "Password incorrect\n",
      "Correct password. You are logged in.\n"
     ]
    }
   ],
   "source": [
    "PASSWORD = \"pass123\"\n",
    "while True:\n",
    "    password = input(\"Enter your password: \")\n",
    "    if password == PASSWORD:\n",
    "        break\n",
    "    else:\n",
    "        print(\"Password incorrect\")\n",
    "print(\"Correct password. You are logged in.\")"
   ]
  },
  {
   "cell_type": "code",
   "execution_count": null,
   "id": "4dc0aa2b",
   "metadata": {},
   "outputs": [],
   "source": []
  },
  {
   "cell_type": "code",
   "execution_count": 2,
   "id": "c3c048c5",
   "metadata": {},
   "outputs": [
    {
     "name": "stdout",
     "output_type": "stream",
     "text": [
      "Hello\n",
      "I\n",
      "Michel\n",
      "am\n"
     ]
    }
   ],
   "source": [
    "list1 = [\"Hello\", \"I\", \"Michel\", \"am\"]\n",
    "for word in list1:\n",
    "    print(word)\n",
    "    \n",
    "# list1[-2], list1[-1] = list1[-1], list1[-2]\n",
    "# list1"
   ]
  },
  {
   "cell_type": "code",
   "execution_count": 5,
   "id": "9b06d627",
   "metadata": {},
   "outputs": [
    {
     "data": {
      "text/plain": [
       "['Hello', 'I', 'am', 'Michel']"
      ]
     },
     "execution_count": 5,
     "metadata": {},
     "output_type": "execute_result"
    }
   ],
   "source": [
    "list1 = [\"Hello\", \"I\", \"Michel\", \"am\"]\n",
    "popped_word = list1.pop(2)\n",
    "list1.append(popped_word)\n",
    "list1"
   ]
  },
  {
   "cell_type": "code",
   "execution_count": 20,
   "id": "b4dc87bb",
   "metadata": {},
   "outputs": [
    {
     "name": "stdout",
     "output_type": "stream",
     "text": [
      "[9, 12, 16, 34, 58]\n",
      "[58, 34, 16, 12, 9]\n"
     ]
    }
   ],
   "source": [
    "ages = [12, 16, 34, 58, 9]\n",
    "\n",
    "ages_ascend = sorted(ages)\n",
    "print(ages_ascend)\n",
    "reverse_ages = sorted(ages, reverse = True)\n",
    "print(reverse_ages)"
   ]
  },
  {
   "cell_type": "code",
   "execution_count": 12,
   "id": "0818ee82",
   "metadata": {},
   "outputs": [
    {
     "name": "stdout",
     "output_type": "stream",
     "text": [
      "[9, 12, 16, 34, 58]\n"
     ]
    }
   ],
   "source": [
    "age = [12, 16, 34, 58, 9]\n",
    "age.sort()\n",
    "print(age)"
   ]
  },
  {
   "cell_type": "code",
   "execution_count": 27,
   "id": "39686491",
   "metadata": {},
   "outputs": [
    {
     "data": {
      "text/plain": [
       "{'name': 'Luke Skywalker',\n",
       " 'height': '172',\n",
       " 'mass': '77',\n",
       " 'hair_color': 'blond',\n",
       " 'skin_color': 'fair',\n",
       " 'eye_color': 'blue',\n",
       " 'birth_year': '19BBY',\n",
       " 'gender': 'male',\n",
       " 'homeworld': 'https://swapi.py4e.com/api/planets/1/',\n",
       " 'films': ['https://swapi.py4e.com/api/films/1/',\n",
       "  'https://swapi.py4e.com/api/films/2/',\n",
       "  'https://swapi.py4e.com/api/films/3/',\n",
       "  'https://swapi.py4e.com/api/films/6/',\n",
       "  'https://swapi.py4e.com/api/films/7/'],\n",
       " 'species': ['https://swapi.py4e.com/api/species/1/'],\n",
       " 'vehicles': ['https://swapi.py4e.com/api/vehicles/14/',\n",
       "  'https://swapi.py4e.com/api/vehicles/30/'],\n",
       " 'starships': ['https://swapi.py4e.com/api/starships/12/',\n",
       "  'https://swapi.py4e.com/api/starships/22/'],\n",
       " 'created': '2014-12-09T13:50:51.644000Z',\n",
       " 'edited': '2014-12-20T21:17:56.891000Z',\n",
       " 'url': 'https://swapi.py4e.com/api/people/1/'}"
      ]
     },
     "execution_count": 27,
     "metadata": {},
     "output_type": "execute_result"
    }
   ],
   "source": [
    "import requests\n",
    "request = requests.get(\"https://swapi.py4e.com/api//people/1/\")\n",
    "dic = request.json()\n",
    "dic"
   ]
  },
  {
   "cell_type": "code",
   "execution_count": 8,
   "id": "02b19554",
   "metadata": {},
   "outputs": [
    {
     "name": "stdout",
     "output_type": "stream",
     "text": [
      "Luke Skywalker is 172 cm tall and weighs 77 kg. He was born in 19BBY\n"
     ]
    }
   ],
   "source": [
    "output = f\"{dic['name']} is {dic['height']} cm tall and weighs {dic['mass']} kg. He was born in {dic['birth_year']}\"\n",
    "print(output)"
   ]
  },
  {
   "cell_type": "code",
   "execution_count": 36,
   "id": "ccd3a35d",
   "metadata": {},
   "outputs": [
    {
     "name": "stdout",
     "output_type": "stream",
     "text": [
      "The average distance is 156.00 km\n"
     ]
    }
   ],
   "source": [
    "kilometres_travelled = [50, 10, 100, 25, 1000, 21, 12, 30]\n",
    "n = len(kilometres_travelled)\n",
    "sum = 0  \n",
    "\n",
    "for i in kilometres_travelled:\n",
    "    sum += i\n",
    "average = sum / n\n",
    "print(f\"The average distance is {average:.2f} km\")"
   ]
  },
  {
   "cell_type": "code",
   "execution_count": 4,
   "id": "484d3f39",
   "metadata": {},
   "outputs": [
    {
     "name": "stdout",
     "output_type": "stream",
     "text": [
      "The square root of 25 is 5.0\n"
     ]
    },
    {
     "data": {
      "text/plain": [
       "10.0"
      ]
     },
     "execution_count": 4,
     "metadata": {},
     "output_type": "execute_result"
    }
   ],
   "source": [
    "def sqrt(numero):\n",
    "    return numero ** 0.5 # ** 0.5 calculate the square root\n",
    "\n",
    "result = sqrt(25)\n",
    "print(f\"The square root of 25 is {result}\")\n",
    "\n",
    "sqrt(100)"
   ]
  },
  {
   "cell_type": "code",
   "execution_count": 11,
   "id": "ecda0f2a",
   "metadata": {},
   "outputs": [
    {
     "name": "stdout",
     "output_type": "stream",
     "text": [
      "Os juros simples são: R$50.00\n"
     ]
    }
   ],
   "source": [
    "def calculate_interests(capital, taxa, tempo):\n",
    "    \"\"\"\n",
    "    Calcula os juros simples por ano com validação.\n",
    "    \n",
    "    Args:\n",
    "        capital (float): capital inicial.\n",
    "        taxa (float): Taxa de juros anual (em porcentagem).\n",
    "        tempo (float): Tempo em anos.\n",
    "    \n",
    "    Returns:\n",
    "        float: Valor dos juros acumulados.\n",
    "    \n",
    "    Raises:\n",
    "        ValueError: Se capital, taxa ou tempo forem negativos.\n",
    "    \"\"\"\n",
    "    if capital < 0 or taxa < 0 or tempo < 0:\n",
    "        raise ValueError(\"capital, taxa e tempo devem ser não negativos\")\n",
    "    \n",
    "    juros = capital * (taxa / 100) * tempo\n",
    "    return juros\n",
    "\n",
    "# Exemplo de uso\n",
    "try:\n",
    "    capital = 500\n",
    "    taxa = 5\n",
    "    tempo = 2\n",
    "    juros = calculate_interests(capital, taxa, tempo)\n",
    "    print(f\"Os juros simples são: R${juros:.2f}\")\n",
    "except ValueError as e:\n",
    "    print(f\"Erro: {e}\")"
   ]
  },
  {
   "cell_type": "code",
   "execution_count": null,
   "id": "1f0b4fc3",
   "metadata": {},
   "outputs": [],
   "source": []
  }
 ],
 "metadata": {
  "kernelspec": {
   "display_name": "base",
   "language": "python",
   "name": "python3"
  },
  "language_info": {
   "codemirror_mode": {
    "name": "ipython",
    "version": 3
   },
   "file_extension": ".py",
   "mimetype": "text/x-python",
   "name": "python",
   "nbconvert_exporter": "python",
   "pygments_lexer": "ipython3",
   "version": "3.12.7"
  }
 },
 "nbformat": 4,
 "nbformat_minor": 5
}
