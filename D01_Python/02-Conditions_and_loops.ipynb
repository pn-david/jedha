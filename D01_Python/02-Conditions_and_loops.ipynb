{
 "cells": [
  {
   "attachments": {},
   "cell_type": "markdown",
   "metadata": {
    "colab_type": "text",
    "id": "w0-nT-B9-9rp"
   },
   "source": [
    "# Python Fundamentals - Mastering conditions & loops\n",
    "\n",
    "## What you will learn in this course 🧐🧐\n",
    "\n",
    "Alright let's dive right into Python! We will review the fundamentals of Python and especially the concepts of loops and conditions. The goal is to give you a solid foundation to learn quicker in the future.\n",
    "\n",
    "Here is what we will cover:\n",
    "\n",
    "*   Write conditions\n",
    "*   Write FOR loops\n",
    "*   Write WHILE loops"
   ]
  },
  {
   "attachments": {},
   "cell_type": "markdown",
   "metadata": {
    "colab_type": "text",
    "id": "aN1svLqv-9rr"
   },
   "source": [
    "## Building conditions\n",
    "\n",
    "The programming languages all work with the same logical structure. If you understand three basic concepts, you won't have trouble switching from one language to another. These three concepts are: conditions, loops, and functions. We will first focus on conditions and loops. So let's begin:\n",
    "\n",
    "\n",
    "### Structure of a condition"
   ]
  },
  {
   "cell_type": "code",
   "execution_count": 2,
   "metadata": {
    "colab": {},
    "colab_type": "code",
    "id": "ohl2W3WS-9rs"
   },
   "outputs": [],
   "source": [
    "# Beforehand, we initialize a variable called a, which here is an integer with the value 3\n",
    "a = 3"
   ]
  },
  {
   "attachments": {},
   "cell_type": "markdown",
   "metadata": {
    "colab_type": "text",
    "id": "mre8zTbl-9rw"
   },
   "source": [
    "#### `if/else`\n",
    "Here's what the structure of a simple condition looks like:\n",
    "\n",
    "\n",
    "```python\n",
    "if condition:\n",
    "    code\n",
    "else:\n",
    "    code\n",
    "```\n",
    "\n",
    "\n",
    "Let's take an example:"
   ]
  },
  {
   "cell_type": "code",
   "execution_count": 3,
   "metadata": {
    "colab": {
     "base_uri": "https://localhost:8080/",
     "height": 34
    },
    "colab_type": "code",
    "id": "vhKiTCUv-9rx",
    "outputId": "b6776d91-181a-4078-f260-0dc6ac204fb2",
    "tags": []
   },
   "outputs": [
    {
     "name": "stdout",
     "output_type": "stream",
     "text": [
      "a is greater than 2\n"
     ]
    }
   ],
   "source": [
    "# A different sentence is displayed depending on the value of a\n",
    "if a > 2:\n",
    "    print(\"a is greater than 2\")\n",
    "else:\n",
    "    print(\"a is no more than 2\")"
   ]
  },
  {
   "attachments": {},
   "cell_type": "markdown",
   "metadata": {
    "colab_type": "text",
    "id": "ZckwL3tp-9r1"
   },
   "source": [
    "#### `elif`\n",
    "If you have several possible conditions, you can use `elif`, here is the structure :\n",
    "\n",
    "\n",
    "```python\n",
    "if first_condition:\n",
    "    Code\n",
    "elif second_condition:\n",
    "    Code\n",
    "else:\n",
    "    code\n",
    "```\n",
    "\n",
    "\n",
    "Let's take an example:"
   ]
  },
  {
   "cell_type": "code",
   "execution_count": 4,
   "metadata": {
    "colab": {
     "base_uri": "https://localhost:8080/",
     "height": 34
    },
    "colab_type": "code",
    "id": "vc7JJ_Sr-9r2",
    "outputId": "adea39be-add7-4ef7-900b-ab5534458cfb",
    "tags": []
   },
   "outputs": [
    {
     "name": "stdout",
     "output_type": "stream",
     "text": [
      "a is equal to 3\n"
     ]
    }
   ],
   "source": [
    "if a > 3:\n",
    "    print(\"a is strictly superior to 3\")\n",
    "elif a == 3:\n",
    "    print(\"a is equal to 3\")\n",
    "else:\n",
    "    print(\"a is strictly less than 3\")"
   ]
  },
  {
   "cell_type": "code",
   "execution_count": 11,
   "metadata": {},
   "outputs": [
    {
     "name": "stdout",
     "output_type": "stream",
     "text": [
      "a is greater than 5\n"
     ]
    }
   ],
   "source": [
    "a = 7\n",
    "if a > 5:\n",
    "    print(\"a is greater than 5\")\n",
    "elif a == 5:\n",
    "    print(\"a is equal to 5\")\n",
    "else:\n",
    "    print(\"a is less than 5\")"
   ]
  },
  {
   "attachments": {},
   "cell_type": "markdown",
   "metadata": {
    "colab_type": "text",
    "id": "w3jQX8FD-9r5"
   },
   "source": [
    "### Operators\n",
    "\n",
    "If you want to create a condition, you need to know the main operators that will allow you to model them. \n",
    "\n",
    "Here is a summary table :\n",
    "\n",
    "|||\n",
    "|--- |--- |\n",
    "|Operator|Meaning|\n",
    "|`>`|Strictly superior|\n",
    "|`<`|Strictly inferior|\n",
    "|`>=`|Superior or equal|\n",
    "|`<=`|Inferior or equal|\n",
    "|`==`|Equal to (be careful to set the double equal otherwise it's as if you were assigning a new value to a variable)|\n",
    "|`!=` (or `<>`)|Different from|\n"
   ]
  },
  {
   "attachments": {},
   "cell_type": "markdown",
   "metadata": {
    "colab_type": "text",
    "id": "vb0CSn07-9r6"
   },
   "source": [
    "## Write loops\n",
    "\n",
    "Now let's look at the second fundamental concept in the program: loop building. These loops make it possible to iterate a certain number of times on a program. We do lots of loops in real life too. For example, _As long as I haven't finished my homework, I keep working._ This action could be modeled, in programming, by a loop. So let's see how to write them."
   ]
  },
  {
   "attachments": {},
   "cell_type": "markdown",
   "metadata": {
    "colab_type": "text",
    "id": "LNM-WPCx-9r6"
   },
   "source": [
    "### `for` Loops\n",
    "\n",
    "One of the most commonly used loops is the `for` loop. This loop will allow you to iterate a finite number of times over a program. Here's how it is structured:\n",
    "\n",
    "\n",
    "```python\n",
    "for item in iterator:\n",
    "    code\n",
    "```\n",
    "\n",
    "\n",
    "Let's take a concrete example:"
   ]
  },
  {
   "cell_type": "code",
   "execution_count": 5,
   "metadata": {
    "colab": {
     "base_uri": "https://localhost:8080/",
     "height": 187
    },
    "colab_type": "code",
    "id": "nsz6Ba77-9r-",
    "outputId": "4ef39f4d-40fb-44a5-e86e-8e1e0421a076",
    "tags": []
   },
   "outputs": [
    {
     "name": "stdout",
     "output_type": "stream",
     "text": [
      "This is the iteration number  0\n",
      "This is the iteration number  1\n",
      "This is the iteration number  2\n",
      "This is the iteration number  3\n",
      "This is the iteration number  4\n",
      "This is the iteration number  5\n",
      "This is the iteration number  6\n",
      "This is the iteration number  7\n",
      "This is the iteration number  8\n",
      "This is the iteration number  9\n"
     ]
    }
   ],
   "source": [
    "# Note: the last integer passed in range() is EXCLUDED (here, we stop at 9 and not 10)\n",
    "for i in range(0, 10):\n",
    "    print(\"This is the iteration number \", i)"
   ]
  },
  {
   "attachments": {},
   "cell_type": "markdown",
   "metadata": {
    "colab_type": "text",
    "id": "PdsH4q-e-9sB"
   },
   "source": [
    "Here, _i_ takes values from 0 to 9 using the `range()` function.\n",
    "\n",
    "WARNING: when using the `range()` function, the last element, in this example 10, is not included in the `for` loop.\n",
    "\n",
    "You can also iterate on variables:"
   ]
  },
  {
   "cell_type": "code",
   "execution_count": 6,
   "metadata": {
    "colab": {},
    "colab_type": "code",
    "id": "yKLG_-X--9sB",
    "outputId": "d744d251-7935-4f02-ce61-68aaf7321031",
    "tags": []
   },
   "outputs": [
    {
     "name": "stdout",
     "output_type": "stream",
     "text": [
      "Hello\n",
      "My\n",
      "Name\n",
      "Is\n",
      "Michel\n"
     ]
    }
   ],
   "source": [
    "# Variable a contains a list on which we can iterate:\n",
    "a_list = [\"Hello\", \"My\", \"Name\", \"Is\", \"Michel\"]\n",
    "for i in a_list:\n",
    "    print(i)"
   ]
  },
  {
   "attachments": {},
   "cell_type": "markdown",
   "metadata": {
    "colab_type": "text",
    "id": "rwzg91WD-9sF"
   },
   "source": [
    "### `WHILE` loops\n",
    "The second type of loop is the `while` loop, which allows you to iterate through a program under a certain condition. As long as the condition is verified, the loop runs. Here is the structure:\n",
    "\n",
    "\n",
    "```python\n",
    "while condition:\n",
    "    code\n",
    "```\n",
    "\n",
    "\n",
    "Since the examples often speak for themselves:"
   ]
  },
  {
   "cell_type": "code",
   "execution_count": 7,
   "metadata": {
    "colab": {},
    "colab_type": "code",
    "id": "r0qoM5-N-9sF",
    "outputId": "7e6354d4-f4a8-4f23-ebb7-143506772ee2",
    "tags": []
   },
   "outputs": [
    {
     "name": "stdout",
     "output_type": "stream",
     "text": [
      "a is equal to 3\n",
      "a is equal to 4\n",
      "a is equal to 5\n",
      "a is equal to 6\n",
      "a is equal to 7\n",
      "a is equal to 8\n",
      "a is equal to 9\n",
      "a is equal to 10\n"
     ]
    }
   ],
   "source": [
    "# The while loops continue to iterate as long as a condition is verified.\n",
    "# Warning: in this example, if you forget to change the value of a at each iteration,\n",
    "# We create an infinite loop, because the condition will always be fulfilled!\n",
    "a = 3\n",
    "while a <= 10:\n",
    "    print(\"a is equal to {}\".format(a))\n",
    "    a += 1"
   ]
  },
  {
   "attachments": {},
   "cell_type": "markdown",
   "metadata": {
    "colab_type": "text",
    "id": "LaFmyviz-9sI"
   },
   "source": [
    "Here the loop was executed as long as _a_ was less than 10. We exited the loop from the moment _a_ is equal to 10.\n",
    "\n",
    "WARNING: It is quite possible to create infinite loops with a `while` loop. That is, a loop that never stops. If you are in this case, press _ctrl + c_ in your console and this should stop the program."
   ]
  },
  {
   "attachments": {},
   "cell_type": "markdown",
   "metadata": {
    "colab_type": "text",
    "id": "Y-to4LtA-9sJ"
   },
   "source": [
    "### Difference between `FOR` and `WHILE`\n",
    "\n",
    "The main difference between the WHILE loop and the FOR loop is that, in the former, you don't have to know how many times you are going to iterate in your program. In the second, your number of iterations is finished no matter what. It's important to understand the difference between the two because, depending on your needs, it's quite possible that you'll choose one or the other."
   ]
  },
  {
   "attachments": {},
   "cell_type": "markdown",
   "metadata": {
    "colab_type": "text",
    "id": "bkiyYKee-9sJ"
   },
   "source": [
    "### Leave a loop with `break`\n",
    "You may have to get out of a loop even if it is supposed to continue. For example, _As long as I haven't finished my homework, I continue working EXCEPT if it is after 11:00 pm. This is when _Break_ is very useful. Let's look directly at an example:\n"
   ]
  },
  {
   "cell_type": "code",
   "execution_count": 8,
   "metadata": {
    "colab": {},
    "colab_type": "code",
    "id": "dm2nNXK5-9sK",
    "outputId": "2d0c3bc6-f38c-4b68-f088-a3aa86af5826",
    "tags": []
   },
   "outputs": [
    {
     "name": "stdout",
     "output_type": "stream",
     "text": [
      "1\n",
      "2\n",
      "3\n",
      "stop\n"
     ]
    }
   ],
   "source": [
    "a = [1,2,3,\"stop\", 4,5,6,7,9]\n",
    "for i in a:\n",
    "    print(i)\n",
    "    if i == \"stop\":\n",
    "        break"
   ]
  },
  {
   "attachments": {},
   "cell_type": "markdown",
   "metadata": {
    "colab_type": "text",
    "id": "4qO1LGXi-9sM"
   },
   "source": [
    "Here, we stopped as soon as the loop iterated to _stop_."
   ]
  },
  {
   "attachments": {},
   "cell_type": "markdown",
   "metadata": {
    "colab_type": "text",
    "id": "QaudXF4T-9sN"
   },
   "source": [
    "## Resources 📚📚\n",
    "\n",
    "* [Practical Introduction to Python - Antoine Krajnc & Anais Armandy](https://bit.ly/39Vnoqk)\n",
    "* [Practical Introduction to Python Workshop](http://bit.ly/2MgPel0)"
   ]
  }
 ],
 "metadata": {
  "colab": {
   "collapsed_sections": [],
   "name": "01-Conditions-and-loops.ipynb",
   "provenance": []
  },
  "kernelspec": {
   "display_name": "Python 3",
   "language": "python",
   "name": "python3"
  },
  "language_info": {
   "codemirror_mode": {
    "name": "ipython",
    "version": 3
   },
   "file_extension": ".py",
   "mimetype": "text/x-python",
   "name": "python",
   "nbconvert_exporter": "python",
   "pygments_lexer": "ipython3",
   "version": "3.13.2"
  }
 },
 "nbformat": 4,
 "nbformat_minor": 4
}
