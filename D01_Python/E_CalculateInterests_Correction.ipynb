{
 "cells": [
  {
   "cell_type": "code",
   "execution_count": 4,
   "metadata": {},
   "outputs": [
    {
     "data": {
      "text/plain": [
       "45.14421336118285"
      ]
     },
     "execution_count": 4,
     "metadata": {},
     "output_type": "execute_result"
    }
   ],
   "source": [
    "def sqrt(x):\n",
    "    return x ** 0.5\n",
    "\n",
    "sqrt(2038)"
   ]
  },
  {
   "cell_type": "markdown",
   "metadata": {},
   "source": [
    "Function that takes in:\n",
    "1. initial sum\n",
    "2. investment duration\n",
    "3. interest rate\n",
    "\n",
    "Returns:\n",
    "The final amount after applying interest\n",
    "\n",
    "Notes:\n",
    "- function expects decimal interest rate\n",
    "- function expects numbers\n",
    "- function expects positive numbers\n",
    "\n",
    "initial_sum = 500 euros\n",
    "investment_duration = 10 years\n",
    "interest_rate = 0.10\n",
    "\n",
    "initial_sum * ((1 + interest_rate) ** investment_duration)"
   ]
  },
  {
   "cell_type": "code",
   "execution_count": null,
   "metadata": {},
   "outputs": [],
   "source": [
    "def calculate_interest(amount, duration, rate):\n",
    "    \"\"\"\n",
    "    Calculates interest over time on a sum, given an interest rate.\n",
    "\n",
    "    Args:\n",
    "        amount (int): initial sum to be invested\n",
    "        duration (int): duration of investment\n",
    "        rate (float): interest per year, by default I expect a decimal\n",
    "    \"\"\"\n",
    "    # Data validation\n",
    "    if isinstance(amount, str):\n",
    "        raise TypeError(\"Amount must be integer or float.\")\n",
    "    \n",
    "    if isinstance(rate, str):\n",
    "        raise TypeError(\"Rate must be integer or float.\")\n",
    "\n",
    "    if amount < 0 or duration < 0 or rate < 0:\n",
    "        raise ValueError(\"All input values must be positive.\")\n",
    "\n",
    "    result = amount * ((1 + rate) ** duration)\n",
    "    return result"
   ]
  },
  {
   "cell_type": "code",
   "execution_count": null,
   "metadata": {},
   "outputs": [
    {
     "data": {
      "text/plain": [
       "1296.8712300500013"
      ]
     },
     "execution_count": 4,
     "metadata": {},
     "output_type": "execute_result"
    }
   ],
   "source": [
    "def calculate_interest_from_input():\n",
    "    amount = input()\n",
    "    rate = input()\n",
    "    duration = input()\n",
    "\n",
    "    calculate_interest(amount, rate, duration)"
   ]
  },
  {
   "cell_type": "code",
   "execution_count": null,
   "metadata": {},
   "outputs": [],
   "source": [
    "CAPITAL -> constant\n",
    "CapitalCity -> PascalCase\n",
    "capital_city -> snake_case"
   ]
  }
 ],
 "metadata": {
  "kernelspec": {
   "display_name": "dsfs",
   "language": "python",
   "name": "python3"
  },
  "language_info": {
   "codemirror_mode": {
    "name": "ipython",
    "version": 3
   },
   "file_extension": ".py",
   "mimetype": "text/x-python",
   "name": "python",
   "nbconvert_exporter": "python",
   "pygments_lexer": "ipython3",
   "version": "3.13.3"
  }
 },
 "nbformat": 4,
 "nbformat_minor": 2
}
