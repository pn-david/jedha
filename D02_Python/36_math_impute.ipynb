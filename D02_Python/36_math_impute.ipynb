{
 "cells": [
  {
   "cell_type": "markdown",
   "id": "5504f230",
   "metadata": {},
   "source": [
    "a class allows me to regroup:\n",
    "- information (attributes)\n",
    "    - list of values\n",
    "\n",
    "- functionalities (methods)\n",
    "    - replace missing values with average (mean or median)\n",
    "    - average\n",
    "        - sum of non missing values divided by length of non missing values\n",
    "        - clean list"
   ]
  },
  {
   "cell_type": "code",
   "execution_count": 122,
   "id": "3de5a3ed",
   "metadata": {},
   "outputs": [
    {
     "name": "stdout",
     "output_type": "stream",
     "text": [
      "[1, 1, 2, 2, 3, 3, 5]\n",
      "2\n"
     ]
    }
   ],
   "source": [
    "l = [1, 2, 3, 5,  3, 1, 2]\n",
    "\n",
    "sorted_list = sorted(l)\n",
    "print(sorted_list)\n",
    "\n",
    "middle_index = len(sorted_list) // 2\n",
    "\n",
    "if len(sorted_list) % 2 == 1:\n",
    "    median = sorted_list[middle_index]\n",
    "else:\n",
    "    left_number = sorted_list[middle_index - 1]\n",
    "    right_number = sorted_list[middle_index]\n",
    "    median = (left_number + right_number) / 2\n",
    "\n",
    "print(median)"
   ]
  },
  {
   "cell_type": "code",
   "execution_count": 123,
   "id": "351ae5cd",
   "metadata": {},
   "outputs": [],
   "source": [
    "class Imputer:\n",
    "    def __init__(self, values):\n",
    "        self.values = values\n",
    "\n",
    "    def clean_list(self):\n",
    "        self.cleaned_list = [val for val in self.values if val is not None]\n",
    "\n",
    "    def calculate_average(self):\n",
    "        self.impute_value = sum(self.cleaned_list) / len(self.cleaned_list)\n",
    "    \n",
    "    def calculate_median(self):\n",
    "        sorted_list = sorted(l)\n",
    "\n",
    "        middle_index = len(sorted_list) // 2\n",
    "\n",
    "        if len(sorted_list) % 2 == 1:\n",
    "            median = sorted_list[middle_index]\n",
    "        else:\n",
    "            left_number = sorted_list[middle_index - 1]\n",
    "            right_number = sorted_list[middle_index]\n",
    "            median = (left_number + right_number) / 2\n",
    "\n",
    "        self.impute_value = median\n",
    "\n",
    "    def calculate_imputation_value(self, strategy):\n",
    "        self.clean_list()\n",
    "        \n",
    "        if strategy == 'average':\n",
    "            self.calculate_average()\n",
    "        elif strategy == 'median':\n",
    "            self.calculate_median()\n",
    "        else:\n",
    "            raise ValueError(\"Strategy must be 'average' or 'median'.\")\n",
    "\n",
    "    def replace_missing_values(self, strategy):\n",
    "        self.calculate_imputation_value(strategy)\n",
    "\n",
    "        imputed_list = []\n",
    "        for element in self.values:\n",
    "            if element == None:\n",
    "                imputed_list.append(self.impute_value)\n",
    "            else:\n",
    "                imputed_list.append(element)\n",
    "        \n",
    "        return imputed_list"
   ]
  },
  {
   "cell_type": "code",
   "execution_count": 124,
   "id": "56f92e81",
   "metadata": {},
   "outputs": [],
   "source": [
    "imputer = Imputer([1, None, 2])"
   ]
  },
  {
   "cell_type": "code",
   "execution_count": 125,
   "id": "55dc9cc2",
   "metadata": {},
   "outputs": [
    {
     "data": {
      "text/plain": [
       "[1, 1.5, 2]"
      ]
     },
     "execution_count": 125,
     "metadata": {},
     "output_type": "execute_result"
    }
   ],
   "source": [
    "imputer.replace_missing_values(strategy='average')"
   ]
  },
  {
   "cell_type": "markdown",
   "id": "6891061c",
   "metadata": {},
   "source": [
    "Object car\n",
    "\n",
    "- Information (attributes)\n",
    "    - odometer\n",
    "    - brand\n",
    "    - model\n",
    "    - fuel_level\n",
    "    - speed\n",
    "\n",
    "- Functionalities (methods)\n",
    "    - drive\n",
    "    - fill fuel"
   ]
  },
  {
   "cell_type": "code",
   "execution_count": 126,
   "id": "2609e25a",
   "metadata": {},
   "outputs": [],
   "source": [
    "class Car:\n",
    "    def __init__(self, odometer, brand, model, fuel_level):\n",
    "        self.odometer = odometer\n",
    "        self.brand = brand\n",
    "        self.model = model\n",
    "        self.fuel_level = fuel_level\n",
    "\n",
    "        self.check_driveability() \n",
    "\n",
    "    def check_driveability(self):\n",
    "        if self.fuel_level > 0:\n",
    "            self.driveable = True\n",
    "        else:\n",
    "            self.driveable = False \n",
    "\n",
    "    def drive(self, distance):\n",
    "        \"\"\"\n",
    "        Odometer changes\n",
    "        Fuel level changes\n",
    "        \"\"\"\n",
    "        self.check_driveability()\n",
    "\n",
    "        if not self.driveable:\n",
    "            print(\"The car is not currently driveable!\")\n",
    "            return\n",
    "\n",
    "        self.odometer += distance\n",
    "        self.fuel_level -= distance / 6\n",
    "\n",
    "    def fill_fuel(self, n_litres):\n",
    "        self.fuel_level += n_litres"
   ]
  },
  {
   "cell_type": "code",
   "execution_count": 127,
   "id": "c0b9c27d",
   "metadata": {},
   "outputs": [],
   "source": [
    "toyota_car = Car(100_000, 'toyota', 'prius', 20)"
   ]
  },
  {
   "cell_type": "code",
   "execution_count": 128,
   "id": "c1714e2f",
   "metadata": {},
   "outputs": [
    {
     "data": {
      "text/plain": [
       "100400"
      ]
     },
     "execution_count": 128,
     "metadata": {},
     "output_type": "execute_result"
    }
   ],
   "source": [
    "toyota_car.drive(400)\n",
    "toyota_car.odometer"
   ]
  },
  {
   "cell_type": "code",
   "execution_count": 129,
   "id": "850b04f5",
   "metadata": {},
   "outputs": [
    {
     "data": {
      "text/plain": [
       "130"
      ]
     },
     "execution_count": 129,
     "metadata": {},
     "output_type": "execute_result"
    }
   ],
   "source": [
    "car = Car(100, 'toyota', 'prius', 10)\n",
    "\n",
    "car.drive(30)\n",
    "car.odometer"
   ]
  },
  {
   "cell_type": "code",
   "execution_count": 130,
   "id": "71f95d09",
   "metadata": {},
   "outputs": [],
   "source": [
    "def sqrt(x):\n",
    "    return x**0.5"
   ]
  },
  {
   "cell_type": "code",
   "execution_count": 131,
   "id": "861fdc74",
   "metadata": {},
   "outputs": [
    {
     "data": {
      "text/plain": [
       "[1, 2, 0, 1, 2, 3]"
      ]
     },
     "execution_count": 131,
     "metadata": {},
     "output_type": "execute_result"
    }
   ],
   "source": [
    "l = [1, 2, 0, 1, 2]\n",
    "l.append(3)\n",
    "l"
   ]
  },
  {
   "cell_type": "markdown",
   "id": "724ab970",
   "metadata": {},
   "source": [
    "short list\n",
    "\n",
    "- attributes\n",
    "    - min_length\n",
    "    - max_length\n",
    "    - values\n",
    "\n",
    "- methods\n",
    "    - append, up until max_length\n",
    "    - remove, down until min_length"
   ]
  },
  {
   "cell_type": "code",
   "execution_count": null,
   "id": "e31e91fa",
   "metadata": {},
   "outputs": [],
   "source": [
    "class ShortList:\n",
    "    def __init__(self, min, max, values):\n",
    "        if not isinstance(min, int):\n",
    "            raise TypeError(\"min has to be an integer\")\n",
    "        \n",
    "        if len(values) > max or len(values) < min:\n",
    "            raise ValueError(\"You must pass an amount of values between min and max\")\n",
    "\n",
    "        self.min = min\n",
    "        self.max = max\n",
    "        self.values = values\n",
    "\n",
    "    def append(self, value):\n",
    "        while len(self.values) >= self.max:\n",
    "            self.values.pop(0)\n",
    "        \n",
    "        self.values.append(value)\n",
    "\n",
    "    def remove(self, idx):\n",
    "        if len(self.values) <= self.min:\n",
    "            raise ValueError(\"List is too short to remove any more values\")"
   ]
  },
  {
   "cell_type": "code",
   "execution_count": 144,
   "id": "dfe1d934",
   "metadata": {},
   "outputs": [
    {
     "data": {
      "text/plain": [
       "[2, 3, 2, 1, 4, 5, 6, 7, 4]"
      ]
     },
     "execution_count": 144,
     "metadata": {},
     "output_type": "execute_result"
    }
   ],
   "source": [
    "slist = ShortList(0, 10, [2, 3, 2, 1, 4, 5, 6, 7, 4])\n",
    "slist.values"
   ]
  },
  {
   "cell_type": "code",
   "execution_count": null,
   "id": "488981ad",
   "metadata": {},
   "outputs": [
    {
     "ename": "TypeError",
     "evalue": "ShortList.append() takes 1 positional argument but 2 were given",
     "output_type": "error",
     "traceback": [
      "\u001b[31m---------------------------------------------------------------------------\u001b[39m",
      "\u001b[31mTypeError\u001b[39m                                 Traceback (most recent call last)",
      "\u001b[36mCell\u001b[39m\u001b[36m \u001b[39m\u001b[32mIn[145]\u001b[39m\u001b[32m, line 1\u001b[39m\n\u001b[32m----> \u001b[39m\u001b[32m1\u001b[39m \u001b[43mslist\u001b[49m\u001b[43m.\u001b[49m\u001b[43mappend\u001b[49m\u001b[43m(\u001b[49m\u001b[32;43m4\u001b[39;49m\u001b[43m)\u001b[49m\n\u001b[32m      2\u001b[39m slist.values\n",
      "\u001b[31mTypeError\u001b[39m: ShortList.append() takes 1 positional argument but 2 were given"
     ]
    }
   ],
   "source": [
    "slist.append(4)\n",
    "slist.values"
   ]
  },
  {
   "cell_type": "code",
   "execution_count": 138,
   "id": "16c8b1f0",
   "metadata": {},
   "outputs": [
    {
     "data": {
      "text/plain": [
       "[3, 2, 1, 4, 5, 6, 7, 4, 4, 9]"
      ]
     },
     "execution_count": 138,
     "metadata": {},
     "output_type": "execute_result"
    }
   ],
   "source": [
    "slist.append(9)\n",
    "slist.values"
   ]
  },
  {
   "cell_type": "code",
   "execution_count": 142,
   "id": "0d735a19",
   "metadata": {},
   "outputs": [
    {
     "ename": "ValueError",
     "evalue": "List is too short to remove any more values",
     "output_type": "error",
     "traceback": [
      "\u001b[31m---------------------------------------------------------------------------\u001b[39m",
      "\u001b[31mValueError\u001b[39m                                Traceback (most recent call last)",
      "\u001b[36mCell\u001b[39m\u001b[36m \u001b[39m\u001b[32mIn[142]\u001b[39m\u001b[32m, line 2\u001b[39m\n\u001b[32m      1\u001b[39m slist = ShortList(\u001b[32m3\u001b[39m, \u001b[32m6\u001b[39m, [\u001b[32m3\u001b[39m, \u001b[32m2\u001b[39m, \u001b[32m5\u001b[39m])\n\u001b[32m----> \u001b[39m\u001b[32m2\u001b[39m \u001b[43mslist\u001b[49m\u001b[43m.\u001b[49m\u001b[43mremove\u001b[49m\u001b[43m(\u001b[49m\u001b[32;43m2\u001b[39;49m\u001b[43m)\u001b[49m\n",
      "\u001b[36mCell\u001b[39m\u001b[36m \u001b[39m\u001b[32mIn[139]\u001b[39m\u001b[32m, line 21\u001b[39m, in \u001b[36mShortList.remove\u001b[39m\u001b[34m(self, idx)\u001b[39m\n\u001b[32m     19\u001b[39m \u001b[38;5;28;01mdef\u001b[39;00m\u001b[38;5;250m \u001b[39m\u001b[34mremove\u001b[39m(\u001b[38;5;28mself\u001b[39m, idx):\n\u001b[32m     20\u001b[39m     \u001b[38;5;28;01mif\u001b[39;00m \u001b[38;5;28mlen\u001b[39m(\u001b[38;5;28mself\u001b[39m.values) <= \u001b[38;5;28mself\u001b[39m.min:\n\u001b[32m---> \u001b[39m\u001b[32m21\u001b[39m         \u001b[38;5;28;01mraise\u001b[39;00m \u001b[38;5;167;01mValueError\u001b[39;00m(\u001b[33m\"\u001b[39m\u001b[33mList is too short to remove any more values\u001b[39m\u001b[33m\"\u001b[39m)\n",
      "\u001b[31mValueError\u001b[39m: List is too short to remove any more values"
     ]
    }
   ],
   "source": [
    "slist = ShortList(3, 6, [3, 2, 5])\n",
    "slist.remove(2)"
   ]
  },
  {
   "cell_type": "code",
   "execution_count": null,
   "id": "4ad5129d",
   "metadata": {},
   "outputs": [],
   "source": []
  },
  {
   "cell_type": "markdown",
   "id": "51f07d68",
   "metadata": {},
   "source": [
    "Bank account\n",
    "\n",
    "- attributes\n",
    "    - capital\n",
    "    - name\n",
    "    - PIN\n",
    "\n",
    "- methods\n",
    "    - add\n",
    "    - remove\n",
    "    - show balance"
   ]
  },
  {
   "cell_type": "code",
   "execution_count": null,
   "id": "a0e1a4de",
   "metadata": {},
   "outputs": [],
   "source": [
    "class Account:\n",
    "    def __init__(self, balance, name, pin):\n",
    "        self.balance = balance\n",
    "        self.name = name\n",
    "        self.pin = pin\n",
    "\n",
    "    def validate(self):\n",
    "        user_pin = int(input('Input a pin'))\n",
    "        errors = 0\n",
    "        while user_pin != self.pin:\n",
    "            user_pin = int(input('Try another pin.'))\n",
    "            errors += 1\n",
    "            if errors >= 3:\n",
    "                return False\n",
    "        return True\n",
    "\n",
    "    def credit(self, sum_to_credit):\n",
    "        if self.validate():\n",
    "            self.balance += sum_to_credit\n",
    "\n",
    "    def withdraw(self, sum_to_withdraw):\n",
    "        if self.validate():\n",
    "            self.balance -= sum_to_withdraw"
   ]
  },
  {
   "cell_type": "code",
   "execution_count": null,
   "id": "02ff9efe",
   "metadata": {},
   "outputs": [],
   "source": [
    "raph_account = Account(100, 'Raphael', 1234)"
   ]
  },
  {
   "cell_type": "code",
   "execution_count": 157,
   "id": "b5647eeb",
   "metadata": {},
   "outputs": [],
   "source": [
    "raph_account.credit(200)"
   ]
  },
  {
   "cell_type": "code",
   "execution_count": 158,
   "id": "7b7a12c5",
   "metadata": {},
   "outputs": [
    {
     "data": {
      "text/plain": [
       "300"
      ]
     },
     "execution_count": 158,
     "metadata": {},
     "output_type": "execute_result"
    }
   ],
   "source": [
    "raph_account.balance"
   ]
  },
  {
   "cell_type": "markdown",
   "id": "049b0789",
   "metadata": {},
   "source": [
    "Create a class that represents a student.\n",
    "\n",
    "This student has a name, an age, and a subject. This student can introduce themselves, they can change subject, they can have a birthday."
   ]
  }
 ],
 "metadata": {
  "kernelspec": {
   "display_name": "dsfs",
   "language": "python",
   "name": "python3"
  },
  "language_info": {
   "codemirror_mode": {
    "name": "ipython",
    "version": 3
   },
   "file_extension": ".py",
   "mimetype": "text/x-python",
   "name": "python",
   "nbconvert_exporter": "python",
   "pygments_lexer": "ipython3",
   "version": "3.13.3"
  }
 },
 "nbformat": 4,
 "nbformat_minor": 5
}
