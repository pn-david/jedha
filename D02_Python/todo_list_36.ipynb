{
 "cells": [
  {
   "cell_type": "markdown",
   "id": "8af41867",
   "metadata": {},
   "source": [
    "We want a todo list\n",
    "\n",
    "- system that keeps track of tasks to perform\n",
    "- we need to have information associated with each task (status, deadline, description, priority)\n",
    "\n",
    "## Todo list\n",
    "### information (attributes)\n",
    "- list of tasks\n",
    "    - number\n",
    "    - status\n",
    "    - deadline\n",
    "    - description\n",
    "    - priority\n",
    "\n",
    "### functionalities (methods)\n",
    "- add a task\n",
    "    - user gives information on task\n",
    "- complete a task\n",
    "    - user gives number of task to complete\n",
    "- modify a task\n",
    "    - user gives number of task to modify, and gives new_information to update\n",
    "- display a task\n",
    "    - user gives number\n",
    "- delete a task\n",
    "    - user gives number\n",
    "- display all tasks\n",
    "    - nothing"
   ]
  },
  {
   "cell_type": "code",
   "execution_count": 42,
   "id": "a47538bf",
   "metadata": {},
   "outputs": [],
   "source": [
    "class Task:\n",
    "    def __init__(\n",
    "            self,\n",
    "            description,\n",
    "            status,\n",
    "            ):\n",
    "        self.description = description\n",
    "        self.status = status\n",
    "\n",
    "    def complete(self):\n",
    "        if len(self.description) > 100:\n",
    "            self.status = \"Completed but I don't believe you\"\n",
    "        else:\n",
    "            self.status = \"Completed\"\n",
    "\n",
    "class ToDoList:\n",
    "    def __init__(self):\n",
    "        self.task_list = []\n",
    "\n",
    "    def validate_task_number(self, task_number):\n",
    "        if task_number > len(self.task_list):\n",
    "            print(\"You chose a task number greater than the number of tasks.\")\n",
    "            return False\n",
    "        \n",
    "        if not isinstance(task_number, int):\n",
    "            print(\"Task number must be integer.\")\n",
    "            return False\n",
    "        \n",
    "        return True\n",
    "\n",
    "    def add_task(self, description):\n",
    "        task = Task(description, status='Uncompleted')\n",
    "        self.task_list.append(task)\n",
    "\n",
    "    def complete_task(self, task_number):\n",
    "        if not self.validate_task_number(task_number):\n",
    "            return\n",
    "\n",
    "        task = self.task_list[task_number - 1]\n",
    "        task.complete()\n",
    "        \n",
    "    def delete_task(self, task_number):\n",
    "        if not self.validate_task_number(task_number):\n",
    "            return\n",
    "        \n",
    "        self.task_list.pop(task_number - 1)\n",
    "\n",
    "    def modify_task(self, task_number, new_description=None, new_status=None):\n",
    "        if not self.validate_task_number(task_number):\n",
    "            return\n",
    "\n",
    "        task = self.task_list[task_number - 1]\n",
    "        \n",
    "        if new_description:\n",
    "            task.description = new_description\n",
    "\n",
    "        if new_status:\n",
    "            task.status = new_status\n",
    "\n",
    "    def invalidate_list(self):\n",
    "        self.list_invalidated = True\n",
    "\n",
    "    def show_all(self):\n",
    "        for i, task in enumerate(self.task_list):\n",
    "            print(f\"{i+1} | Status: {task.status} | Task: {task.description}\")"
   ]
  },
  {
   "cell_type": "code",
   "execution_count": 43,
   "id": "53cde173",
   "metadata": {},
   "outputs": [
    {
     "name": "stdout",
     "output_type": "stream",
     "text": [
      "1 | Status: Uncompleted | Task: Go to the supermaket tonight to get food for dinner\n",
      "2 | Status: Uncompleted | Task: Faire le menage\n",
      "3 | Status: Uncompleted | Task: Prendre une biere\n"
     ]
    }
   ],
   "source": [
    "todo_list = ToDoList()\n",
    "\n",
    "todo_list.add_task(\"Go to the supermaket tonight to get food for dinner\")\n",
    "todo_list.add_task(\"Faire le menage\")\n",
    "todo_list.add_task(\"Prendre une biere\")\n",
    "\n",
    "todo_list.show_all()"
   ]
  },
  {
   "cell_type": "code",
   "execution_count": 44,
   "id": "032ad89d",
   "metadata": {},
   "outputs": [],
   "source": [
    "todo_list.complete_task(3)"
   ]
  },
  {
   "cell_type": "code",
   "execution_count": 45,
   "id": "ade3aa25",
   "metadata": {},
   "outputs": [
    {
     "name": "stdout",
     "output_type": "stream",
     "text": [
      "1 | Status: Uncompleted | Task: Go to the supermaket tonight to get food for dinner\n",
      "2 | Status: Uncompleted | Task: Faire le menage\n",
      "3 | Status: Completed | Task: Prendre une biere\n"
     ]
    }
   ],
   "source": [
    "todo_list.show_all()"
   ]
  },
  {
   "cell_type": "code",
   "execution_count": 46,
   "id": "2c763fa8",
   "metadata": {},
   "outputs": [
    {
     "name": "stdout",
     "output_type": "stream",
     "text": [
      "1 | Status: Uncompleted | Task: Go to the supermaket tonight to get food for dinner\n",
      "2 | Status: Uncompleted | Task: Faire une sieste\n",
      "3 | Status: Completed | Task: Prendre une biere\n"
     ]
    }
   ],
   "source": [
    "todo_list.modify_task(2, new_description='Faire une sieste')\n",
    "todo_list.show_all()"
   ]
  },
  {
   "cell_type": "code",
   "execution_count": 47,
   "id": "c8edbd44",
   "metadata": {},
   "outputs": [
    {
     "name": "stdout",
     "output_type": "stream",
     "text": [
      "1 | Status: Uncompleted | Task: Faire une sieste\n",
      "2 | Status: Completed | Task: Prendre une biere\n"
     ]
    }
   ],
   "source": [
    "todo_list.delete_task(1)\n",
    "todo_list.show_all()"
   ]
  },
  {
   "cell_type": "code",
   "execution_count": 48,
   "id": "35f1f8c9",
   "metadata": {},
   "outputs": [
    {
     "ename": "AttributeError",
     "evalue": "'ToDoList' object has no attribute 'list_invalidated'",
     "output_type": "error",
     "traceback": [
      "\u001b[31m---------------------------------------------------------------------------\u001b[39m",
      "\u001b[31mAttributeError\u001b[39m                            Traceback (most recent call last)",
      "\u001b[36mCell\u001b[39m\u001b[36m \u001b[39m\u001b[32mIn[48]\u001b[39m\u001b[32m, line 1\u001b[39m\n\u001b[32m----> \u001b[39m\u001b[32m1\u001b[39m \u001b[43mtodo_list\u001b[49m\u001b[43m.\u001b[49m\u001b[43mlist_invalidated\u001b[49m\n",
      "\u001b[31mAttributeError\u001b[39m: 'ToDoList' object has no attribute 'list_invalidated'"
     ]
    }
   ],
   "source": [
    "todo_list.list_invalidated"
   ]
  },
  {
   "cell_type": "code",
   "execution_count": 49,
   "id": "dedee5d6",
   "metadata": {},
   "outputs": [
    {
     "data": {
      "text/plain": [
       "True"
      ]
     },
     "execution_count": 49,
     "metadata": {},
     "output_type": "execute_result"
    }
   ],
   "source": [
    "todo_list.invalidate_list()\n",
    "todo_list.list_invalidated"
   ]
  }
 ],
 "metadata": {
  "kernelspec": {
   "display_name": "dsfs",
   "language": "python",
   "name": "python3"
  },
  "language_info": {
   "codemirror_mode": {
    "name": "ipython",
    "version": 3
   },
   "file_extension": ".py",
   "mimetype": "text/x-python",
   "name": "python",
   "nbconvert_exporter": "python",
   "pygments_lexer": "ipython3",
   "version": "3.13.3"
  }
 },
 "nbformat": 4,
 "nbformat_minor": 5
}
