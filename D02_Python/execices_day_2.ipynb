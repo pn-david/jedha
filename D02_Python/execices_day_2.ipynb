{
 "cells": [
  {
   "cell_type": "code",
   "execution_count": 25,
   "id": "f79ee954",
   "metadata": {},
   "outputs": [
    {
     "name": "stdout",
     "output_type": "stream",
     "text": [
      "la liste contient la valeur 10\n"
     ]
    }
   ],
   "source": [
    "l1 = [8,6,5,9,5,10]\n",
    "if 10 in l1:\n",
    "    print(\"la liste contient la valeur 10\")\n",
    "else:\n",
    "    print(\"la liste ne contient pas la valeur 10\")"
   ]
  },
  {
   "cell_type": "code",
   "execution_count": 26,
   "id": "2fad579c",
   "metadata": {},
   "outputs": [
    {
     "name": "stdout",
     "output_type": "stream",
     "text": [
      "la liste ne contient pas la valeur 10\n"
     ]
    }
   ],
   "source": [
    "l2 = [8,6,5,9,5,20]\n",
    "if 10 in l2:\n",
    "    print(\"la liste contient la valeur 10\")\n",
    "else:\n",
    "    print(\"la liste ne contient pas la valeur 10\")"
   ]
  },
  {
   "cell_type": "markdown",
   "id": "2173f36a",
   "metadata": {},
   "source": [
    "Create a class to be called \"math.\"\n",
    "\n",
    "This class will have no internal attributes, so you don't need to define an init() _\n",
    "\n",
    "Create a method that will compute the square root of any number.\n",
    "\n",
    "Create a method that will calculate the average of any list of numbers.\n",
    "\n",
    "Create a method to find out if a number is even or odd.\n",
    "\n",
    "Finally, create a method that will give the total sum of a list of numbers."
   ]
  },
  {
   "cell_type": "code",
   "execution_count": 37,
   "id": "d68b03a3",
   "metadata": {},
   "outputs": [
    {
     "name": "stdout",
     "output_type": "stream",
     "text": [
      "5.0\n"
     ]
    }
   ],
   "source": [
    "class Math:\n",
    "    def sqrt(self, number):\n",
    "        return number ** 0.5\n",
    "    \n",
    "    def average(self, numbers):\n",
    "        return sum(numbers) / len(numbers)\n",
    "    \n",
    "    def is_even(self, number):\n",
    "        return \"even\" if number % 2 == 0 else \"odd\"\n",
    "    \n",
    "    def sum_list(self, numbers):     \n",
    "        return sum(numbers)\n",
    "    \n",
    "# Create an instance of the Math class\n",
    "math_instance = Math()\n",
    "\n",
    "# Call the sqrt method on the instance\n",
    "result = math_instance.sqrt(25)\n",
    "print(result)\n"
   ]
  },
  {
   "cell_type": "code",
   "execution_count": 28,
   "id": "f7afa4d7",
   "metadata": {},
   "outputs": [
    {
     "name": "stdout",
     "output_type": "stream",
     "text": [
      "Square root of 16: 4.0\n",
      "Average of [1, 2, 3, 4]: 2.5\n",
      "Is 7 even or odd? odd\n",
      "Sum of [1, 2, 3, 4]: 10\n"
     ]
    }
   ],
   "source": [
    "\n",
    "math_ops = Math()\n",
    "print(f\"Square root of 16: {math_ops.sqrt(16)}\")\n",
    "print(f\"Average of [1, 2, 3, 4]: {math_ops.average([1, 2, 3, 4])}\")\n",
    "print(f\"Is 7 even or odd? {math_ops.is_even(7)}\")\n",
    "print(f\"Sum of [1, 2, 3, 4]: {math_ops.sum_list([1, 2, 3, 4])}\")"
   ]
  },
  {
   "cell_type": "markdown",
   "id": "cc9c9c53",
   "metadata": {},
   "source": [
    "Create a class that we will call Imputer.\n",
    "\n",
    "To simplify the exercise, we will only deal with lists for the moment.\n",
    "\n",
    "Our class will take an attribute that we will call list.\n",
    "\n",
    "Create an avg() function that will first remove the missing value and then replace it with the average of the list."
   ]
  },
  {
   "cell_type": "code",
   "execution_count": null,
   "id": "0debf8fd",
   "metadata": {},
   "outputs": [
    {
     "name": "stdout",
     "output_type": "stream",
     "text": [
      "Lista após substituição: [1, 2, 3.0, 4, 3.0, 5]\n",
      "Lista após substituição: [10, 15.0, 20, 15.0]\n"
     ]
    }
   ],
   "source": [
    "class Imputer:\n",
    "    def __init__(self, input_list):\n",
    "        self.list = input_list\n",
    "    def avg(self):\n",
    "    \n",
    "        # Filtra valores não None e verifica se são numéricos\n",
    "        valid_numbers = [x for x in self.list if x is not None]\n",
    "        \n",
    "        # Verifica se há valores válidos para calcular a média\n",
    "        if not valid_numbers:\n",
    "            raise ValueError(\"A lista está vazia ou contém apenas valores None\")\n",
    "        \n",
    "        # Verifica se todos os valores não None são numéricos\n",
    "        if not all(isinstance(x, (int, float)) for x in valid_numbers):\n",
    "            raise ValueError(\"A lista deve conter apenas números (ou None)\")\n",
    "        \n",
    "        # Calcula a média dos valores não None\n",
    "        average = sum(valid_numbers) / len(valid_numbers)\n",
    "        \n",
    "        # Substitui valores None pela média\n",
    "        self.list = [average if x is None else x for x in self.list]\n",
    "        \n",
    "        return self.list\n",
    "\n",
    "# Exemplo de uso\n",
    "\n",
    "    # Lista com valores ausentes\n",
    "    data = [1, 2, None, 4, None, 5]\n",
    "    imputer = Imputer(data)\n",
    "    result = imputer.avg()\n",
    "    print(f\"Lista após substituição: {result}\")\n",
    "    \n",
    "    # Outro exemplo\n",
    "    data2 = [10, None, 20, None]\n",
    "    imputer2 = Imputer(data2)\n",
    "    result2 = imputer2.avg()\n",
    "    print(f\"Lista após substituição: {result2}\")\n"
   ]
  },
  {
   "cell_type": "code",
   "execution_count": 57,
   "id": "65e86b8a",
   "metadata": {},
   "outputs": [
    {
     "name": "stdout",
     "output_type": "stream",
     "text": [
      "Name: Thor, Age: 22, Subject: Phisics\n"
     ]
    }
   ],
   "source": [
    "class Student:\n",
    "\n",
    "    def __init__ (self, name, age, subject):\n",
    "        self.name = name\n",
    "        self.age = age\n",
    "        self.subject = subject\n",
    "\n",
    "    def __str__(self):\n",
    "        return f\"Name: {self.name}, Age: {self.age}, Subject: {self.subject}\"\n",
    "    \n",
    "   \n",
    "\n",
    "student_1 = Student(\"Thor\", 22, \"Phisics\")\n",
    "student_2 = Student(\"Mickey\", 20, \"Cience\")\n",
    "student_3 = Student(\"Popeye\", 30, \"Boxe\")\n",
    "\n",
    "\n",
    "print(student_1)\n",
    "\n",
    "\n",
    "# student = Student(\n",
    "#     name = input (\"Student name: \"),\n",
    "#     age = int(input (\"Student age: \")),\n",
    "#     subject = input (\"Student subject: \")\n",
    "# )\n",
    "\n",
    "\n",
    "\n",
    "\n"
   ]
  },
  {
   "cell_type": "code",
   "execution_count": 60,
   "id": "2a487610",
   "metadata": {},
   "outputs": [
    {
     "name": "stdout",
     "output_type": "stream",
     "text": [
      "Name: Bob Eponge, Age: 19, Subject: Ocean\n"
     ]
    }
   ],
   "source": [
    "class Student:\n",
    "    def __init__(self, name, age, subject):\n",
    "        self.name = name\n",
    "        self.age = age\n",
    "        self.subject = subject\n",
    "    \n",
    "    def __str__(self):\n",
    "        return f\"Name: {self.name}, Age: {self.age}, Subject: {self.subject}\"\n",
    "\n",
    "# Create an instance of the Student class with user input\n",
    "student_1 = Student(\n",
    "    name=input(\"Type your name: \"),\n",
    "    age=int(input(\"Type your age: \")),\n",
    "    subject=input(\"Type your subject: \")\n",
    ")\n",
    "\n",
    "# Print the student information\n",
    "print(student_1)"
   ]
  },
  {
   "cell_type": "markdown",
   "id": "929c1b04",
   "metadata": {},
   "source": [
    "## Exo classes pour pratiquer:\n",
    "### Créer une class \"ToDo List\" avec ces fonctionalités là:\n",
    "\n",
    "- Liste de taches, avec description, statut (pas fini, fini) et numéro\n",
    "- Ajouter des taches\n",
    "- Complèter des taches\n",
    "- Modifier une tache\n",
    "\n",
    "- sistema com tarefas a serem seguidas\n",
    "- precisamos ter informacoes associadas com cada tarefa (status, deadline, descricao, prioridade)\n",
    "\n",
    "## ToDo List\n",
    "### informacoes (attributes)\n",
    "\n",
    "- lista de tarefas\n",
    "    - number\n",
    "    - status\n",
    "    - deadline\n",
    "    - description\n",
    "    - priority\n",
    "\n",
    "### functionalities (methods)\n",
    "- add a task\n",
    "    - user gives information on task\n",
    "- ccomplete a task\n",
    "    - user gives number of a task to complete\n",
    "- modify a task\n",
    "    - user gives number of task to modify, and gives new_information to update\n",
    "- display a task\n",
    "    - user gives task number\n",
    "- delete a task\n",
    "    - user gives task number"
   ]
  },
  {
   "cell_type": "code",
   "execution_count": null,
   "id": "2dcb12f8",
   "metadata": {},
   "outputs": [],
   "source": [
    "class Task:\n",
    "    def __init__(self, status, deadline, description, priority):\n",
    "        self.description = description\n",
    "        self.status = status\n",
    "\n",
    "class ToDoList:\n",
    "    def __init__(self):\n",
    "        self.task_list = []\n",
    "def add_task(self,)\n"
   ]
  },
  {
   "cell_type": "code",
   "execution_count": 21,
   "id": "f640004b",
   "metadata": {},
   "outputs": [],
   "source": [
    "class ToDoList:\n",
    "    def __init__(self):\n",
    "        self.taches = []\n",
    "        self.numero = 1\n",
    "    \n",
    "    def add_tache(self, tache):\n",
    "        new_tache = {\n",
    "            \"numero\": self.numero, \"name\": tache, \"ready\": \"no\"\n",
    "        }\n",
    "        self.taches.append(new_tache)\n",
    "        self.numero += 1\n",
    "        print(f\"Tache '{tache}' added!\")\n",
    "\n",
    "    def end_tache(self, numero):\n",
    "        for tache in self.taches:\n",
    "            if tache[\"numero\"] == numero:\n",
    "                tache[\"ready\"] = \"yes\"\n",
    "                print(f\"Tache {numero} is ready!\")\n",
    "\n",
    "    def show(self):\n",
    "        print(\"Minhas Tarefas:\")\n",
    "        for tache in self.taches:\n",
    "            print(f\"Tache {tache['numero']}: {tache['nome']} - {tache['pronto']}\")"
   ]
  },
  {
   "cell_type": "code",
   "execution_count": null,
   "id": "107bbf80",
   "metadata": {},
   "outputs": [
    {
     "name": "stdout",
     "output_type": "stream",
     "text": [
      "Tarefa 'Arrumar brinquedos' adicionada!\n",
      "Tarefa 'Fazer dever' adicionada!\n",
      "Minhas Tarefas:\n",
      "Tarefa 1: Arrumar brinquedos - não\n",
      "Tarefa 2: Fazer dever - não\n",
      "Tarefa 1 está pronta!\n",
      "Tarefa 2 agora é 'Estudar matemática'!\n",
      "Minhas Tarefas:\n",
      "Tarefa 1: Arrumar brinquedos - sim\n",
      "Tarefa 2: Estudar matemática - não\n"
     ]
    }
   ],
   "source": [
    "# Uma classe é como uma caixa para guardar coisas que fazemos\n",
    "class ToDoList:\n",
    "    # Começa com uma lista vazia para guardar as tarefas\n",
    "    def __init__(self):\n",
    "        self.taches = []  # Aqui vão as tarefas\n",
    "        self.numero = 1    # Cada tarefa ganha um número, começando com 1\n",
    "\n",
    "    # Adiciona uma tarefa nova, como \"fazer o dever\"\n",
    "    def adicionar(self, tarefa):\n",
    "        if tarefa == \"\":  # Não pode ser vazio\n",
    "            print(\"Erro: A tarefa precisa ter um nome!\")\n",
    "            return\n",
    "        nova_tarefa = {\n",
    "            \"numero\": self.numero,\n",
    "            \"nome\": tarefa,\n",
    "            \"pronto\": \"não\"\n",
    "        }\n",
    "        self.tarefas.append(nova_tarefa)  # Coloca a tarefa na lista\n",
    "        self.numero += 1  # Aumenta o número para a próxima tarefa\n",
    "        print(f\"Tarefa '{tarefa}' adicionada!\")\n",
    "\n",
    "    # Marca uma tarefa como pronta\n",
    "    def terminar(self, numero):\n",
    "        for tarefa in self.tarefas:\n",
    "            if tarefa[\"numero\"] == numero:\n",
    "                tarefa[\"pronto\"] = \"sim\"\n",
    "                print(f\"Tarefa {numero} está pronta!\")\n",
    "                return\n",
    "        print(f\"Erro: Não achei a tarefa {numero}!\")\n",
    "\n",
    "    # Muda o nome de uma tarefa\n",
    "    def mudar(self, numero, novo_nome):\n",
    "        if novo_nome == \"\":  # Não pode ser vazio\n",
    "            print(\"Erro: O novo nome precisa ser algo!\")\n",
    "            return\n",
    "        for tarefa in self.tarefas:\n",
    "            if tarefa[\"numero\"] == numero:\n",
    "                tarefa[\"nome\"] = novo_nome\n",
    "                print(f\"Tarefa {numero} agora é '{novo_nome}'!\")\n",
    "                return\n",
    "        print(f\"Erro: Não achei a tarefa {numero}!\")\n",
    "\n",
    "    # Mostra todas as tarefas\n",
    "    def mostrar(self):\n",
    "        if not self.tarefas:  # Se não tem tarefas\n",
    "            print(\"Nenhuma tarefa na lista!\")\n",
    "            return\n",
    "        print(\"Minhas Tarefas:\")\n",
    "        for tarefa in self.tarefas:\n",
    "            print(f\"Tarefa {tarefa['numero']}: {tarefa['nome']} - {tarefa['pronto']}\")\n",
    "\n",
    "# Vamos brincar com a lista!\n",
    "minha_lista = ToDoList()\n",
    "minha_lista.adicionar(\"Arrumar brinquedos\")  # Adiciona uma tarefa\n",
    "minha_lista.adicionar(\"Fazer dever\")         # Adiciona outra\n",
    "minha_lista.mostrar()                        # Mostra as tarefas\n",
    "minha_lista.terminar(1)                      # Marca tarefa 1 como pronta\n",
    "minha_lista.mudar(2, \"Estudar matemática\")   # Muda o nome da tarefa 2\n",
    "minha_lista.mostrar()                        # Mostra as tarefas de novo"
   ]
  },
  {
   "cell_type": "code",
   "execution_count": 12,
   "id": "e645b897",
   "metadata": {},
   "outputs": [],
   "source": [
    "# Uma classe é como uma caixa para guardar coisas que fazemos\n",
    "class ToDoList:\n",
    "    # Começa com uma lista vazia para guardar as tarefas\n",
    "    def __init__(self):\n",
    "        self.taches = []  # Aqui vão as tarefas\n",
    "        self.numero = 1    # Cada tarefa ganha um número, começando com 1\n",
    "\n",
    "    # Adiciona uma tarefa nova, como \"fazer o dever\"\n",
    "    def adicionar(self, tarefa):\n",
    "        if tarefa == \"\":  # Não pode ser vazio\n",
    "            print(\"Erro: A tarefa precisa ter um nome!\")\n",
    "            return\n",
    "        nova_tarefa = {\n",
    "            \"numero\": self.numero,\n",
    "            \"nome\": tarefa,\n",
    "            \"pronto\": \"não\"\n",
    "        }\n",
    "        self.tarefas.append(nova_tarefa)  # Coloca a tarefa na lista\n",
    "        self.numero += 1  # Aumenta o número para a próxima tarefa\n",
    "        print(f\"Tarefa '{tarefa}' adicionada!\")"
   ]
  },
  {
   "cell_type": "code",
   "execution_count": null,
   "id": "8b85ca90",
   "metadata": {},
   "outputs": [],
   "source": []
  }
 ],
 "metadata": {
  "kernelspec": {
   "display_name": "base",
   "language": "python",
   "name": "python3"
  },
  "language_info": {
   "codemirror_mode": {
    "name": "ipython",
    "version": 3
   },
   "file_extension": ".py",
   "mimetype": "text/x-python",
   "name": "python",
   "nbconvert_exporter": "python",
   "pygments_lexer": "ipython3",
   "version": "3.12.7"
  }
 },
 "nbformat": 4,
 "nbformat_minor": 5
}
