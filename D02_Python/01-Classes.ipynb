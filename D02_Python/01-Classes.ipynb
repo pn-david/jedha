{
 "cells": [
  {
   "cell_type": "markdown",
   "metadata": {},
   "source": [
    "# Understanding Object Oriented Programming"
   ]
  },
  {
   "cell_type": "markdown",
   "metadata": {},
   "source": [
    "## Object-oriented programming\n",
    "\n",
    "## What you'll learn in this course 🧐🧐\n",
    "\n",
    "The final layer of knowledge to master for any programming language: **Object Oriented Programming**. OOP not only introduces the concept of classes but also provides standards when it comes to develop softwares and libraries. In this course, you will learn:\n",
    "\n",
    "* What is OOP and how it is structured\n",
    "* Why doing OOP\n",
    "* Python classes\n",
    "\n",
    "\n",
    "### The OOP structure\n",
    "\n",
    "Let's start by talking about the structure and vocabulary related to OOP, as this will make it easier for you to understand why we do it and the fundamental principles on which OOP is based. Here's the general structure:\n",
    "\n",
    "1. **An object**: Anything can designate an object: a class is an object, a function is an object etc. When we don't know the type of data we are dealing with, we will talk about an object.\n",
    "\n",
    "2. **A class**: A class is a collection of methods, variables... that will allow to execute a certain number of actions.\n",
    "\n",
    "3. **An attribute**: These are the variables contained in a class. \n",
    "\n",
    "4. **A method**: When we build functions, in a class, we are actually talking about methods. These functions have been used before, and are those that start with a dot (ex: _.pop()_)\n",
    "\n",
    "5. **An instance**: An instance is a representant of a class, that is, each time you are going to use a class, you are going to create an instance of that class.\n",
    "\n",
    "These five vocabulary words are the ones you need to keep in mind. You're not going to understand them all right away, that's perfectly normal. We'll build classes and it'll all come together quickly.\n",
    "\n",
    "\n",
    "### Why do OOP?\n",
    "\n",
    "The whole purpose of OOP is to create code that is more robust, flexible and more easily reusable. It is based on 4 principles:\n",
    "\n",
    "1. Encapsulation\n",
    "2. Abstract\n",
    "3. Heritage\n",
    "4. Polymorphism\n",
    "\n",
    "Let's quickly explain each of these principles:\n",
    "\n",
    "**Encapsulation**: In OOP, we have attributes nested in classes. This allows us to \"arrange\" the variables relative to the same object (for example, we will arrange in the same object the age and salary parts of a person). It is also very useful for hiding from the user variables that are useful for the operation of the code but whose values the user does not necessarily need to know or manipulate directly. This principle of having attributes nested in classes respects what is called encapsulation.\n",
    "\n",
    "Here is an example:\n",
    "\n",
    "```python\n",
    "class Person():\n",
    "    def __init__(self, salary, age):\n",
    "        self.salary = salary\n",
    "        self.age = age\n",
    "\n",
    "    def get_salary(self):\n",
    "        return self.salary\n",
    "    \n",
    "    def get_age(self):\n",
    "        return self.age\n",
    "    \n",
    "person = Person(2700, 25)\n",
    "print(person.get_salary()) #output: 2700 \n",
    "print(person.get_age()) #output: 25\n",
    "\n",
    "```\n",
    "\n",
    "**Abstraction**: Abstraction tells us that: \"If there is complex code that the user doesn't need, we might as well hide it\". The idea behind this is to prevent the user from bringing bugs into the programs.\n",
    "\n",
    "Here is an example:\n",
    "\n",
    "```python\n",
    "from abc import ABC, abstractmethod\n",
    "\n",
    "class Animal(ABC):\n",
    "    @abstractmethod\n",
    "    def make_sound(self):\n",
    "        pass\n",
    "\n",
    "class Dog(Animal):\n",
    "    def make_sound(self):\n",
    "        print(\"Woof!\")\n",
    "\n",
    "class Cat(Animal):\n",
    "    def make_sound(self):\n",
    "        print(\"Meow!\")\n",
    "\n",
    "dog = Dog()\n",
    "dog.make_sound()  # Output: Woof!\n",
    "\n",
    "cat = Cat()\n",
    "cat.make_sound()  # Output: Meow!\n",
    "\n",
    "```\n",
    "\n",
    "**Heritage**: There can be a hierarchy in classes and methods. You can have parent classes and child classes that inherit the attributes of the parent class. \n",
    "\n",
    "Here is an example:\n",
    "\n",
    "```python\n",
    "class Shape:\n",
    "    def __init__(self, color):\n",
    "        self.color = color\n",
    "\n",
    "    def display_color(self):\n",
    "        print(\"Color:\", self.color)\n",
    "\n",
    "class Circle(Shape):\n",
    "    def __init__(self, color, radius):\n",
    "        super().__init__(color)\n",
    "        self.radius = radius\n",
    "\n",
    "    def display_area(self):\n",
    "        area = 3.14 * self.radius ** 2\n",
    "        print(\"Area:\", area)\n",
    "\n",
    "circle = Circle(\"Red\", 5)\n",
    "circle.display_color()  # Output: Color: Red\n",
    "circle.display_area()  # Output: Area: 78.5\n",
    "\n",
    "```\n",
    "\n",
    "**Polymorphism**: Polymorphism is very much related to inheritance. It means that in addition to inheriting the attributes of the parent classes, each of the methods of the parent class can adapt to different possible situations.\n",
    "\n",
    "Here is an example:\n",
    "\n",
    "```python\n",
    "class Animal:\n",
    "    def __init__(self, name):\n",
    "        self.name = name\n",
    "\n",
    "    def make_sound(self):\n",
    "        pass\n",
    "\n",
    "class Dog(Animal):\n",
    "    def make_sound(self):\n",
    "        return \"Woof!\"\n",
    "\n",
    "class Cat(Animal):\n",
    "    def make_sound(self):\n",
    "        return \"Meow!\"\n",
    "\n",
    "def make_animal_sound(animal):\n",
    "    print(animal.make_sound())\n",
    "\n",
    "dog = Dog(\"Buddy\")\n",
    "make_animal_sound(dog)  # Output: Woof!\n",
    "\n",
    "cat = Cat(\"Whiskers\")\n",
    "make_animal_sound(cat)  # Output: Meow!\n",
    "```\n",
    "\n",
    "This will help you understand how classes are built, but you don't have to rack your brains about it right now. You'll understand as we create classes."
   ]
  },
  {
   "cell_type": "markdown",
   "metadata": {},
   "source": [
    "### Create a class with its attributes and methods\n",
    "\n",
    "The syntax for creating a class will always be as follows:\n",
    "\n",
    "```python\n",
    "class Name_of_the_class():\n",
    "    def __init__(self, arguments_init): # special method for initializing internal attributes (optional if no internal attributes)\n",
    "        self.name_attribute1 = ...\n",
    "        self.name_attribute2 = ...\n",
    "        \n",
    "    def methode1(self, arguments_methode1):\n",
    "        instructions\n",
    "        return ... # optional\n",
    "    \n",
    "    def methode2(self, arguments_methode2):\n",
    "        instructions\n",
    "        return ... # optional\n",
    "        \n",
    "```\n",
    "\n",
    "The __init__() method is a special method: it is the one that will be called each time a class instance is created. It determines how the attributes will be initialized. As soon as your class contains internal attributes, you should think about defining the __init()__. Sometimes you may create a class that has no internal attributes. In this case, you don't need the __init()__.\n",
    "\n",
    "Once the class has been declared, we will be able to create as many instances of the class as we want, in the following way:\n",
    "\n",
    "```python\n",
    "name_instance1 = Name_of_the_class(arguments_init)\n",
    "name_instance2 = Name_of_the_class(arguments_init)\n",
    "```\n",
    "\n",
    "Once the class instance has been created, its internal attributes can then be accessed in this way :\n",
    "```python\n",
    "name_instance1.name_attribute1\n",
    "```\n",
    "\n",
    "Finally, for each instance, it will be possible to call the methods declared within the class, in this way :\n",
    "\n",
    "```python\n",
    "name_instance1.methode1(arguments_methode1)\n",
    "```\n",
    "\n",
    "**Note**: each method defined in the class has a list of arguments that starts with a particular keyword, denoted `self`. In python, `self` represents the instance of the class and is always the first argument to a method. It is because we write `methode1(self,...)` that we can then call the method with a dot: `instance_name1.method1(...)`. If you forget the `self' argument when defining the method, you will get an error when trying to call the method."
   ]
  },
  {
   "cell_type": "markdown",
   "metadata": {},
   "source": [
    "### Create a class: example\n",
    "Let's say we're a dealership that runs garages. We want to create a `Garage()` class that will allow us to track the status of our garages at any time. \n",
    "\n",
    "#### A simple first class\n",
    "\n",
    "Let's start with a simple class, which will allow us to track the number of employees in each garage:"
   ]
  },
  {
   "cell_type": "code",
   "execution_count": 1,
   "metadata": {},
   "outputs": [],
   "source": [
    "# Definition of a Garage class with its attributes and methods\n",
    "\n",
    "class Garage():\n",
    "    # Attribute initialization - we use a special method: __init__()\n",
    "    def __init__(self):\n",
    "        self.employes = 0\n",
    "    \n",
    "    # Declaration/definition of methods\n",
    "    def recrute_employees(self, number_employees):\n",
    "        self.employes += number_employees\n",
    "        \n",
    "    def dismissed_employees(self, number_employees):\n",
    "        self.employes -= number_employees\n",
    "        \n",
    "    def display_information(self):\n",
    "        print(\"Employees: \", self.employes)"
   ]
  },
  {
   "attachments": {},
   "cell_type": "markdown",
   "metadata": {},
   "source": [
    "The `Garage()` class contains an internal attribute, `self.employes`. The `__init__()` method thus written specifies that this attribute will always be initialized to 0 for created instances.\n",
    "\n",
    "We have defined three class methods:\n",
    "* `recrute_employees(self, number_employees)` allows to add a certain number of `number_employees` to the attribute `self.employes`.\n",
    "* `dismissed_employees(self, number_employees)` allows you to remove a certain `number_of_employees` from the `self.employes` attribute.\n",
    "* `display_information(self)` is used to display the value of the internal attribute `self.employes` on the screen.\n",
    "\n",
    "Now that the `Garage()` class is declared, we can create instances of the class (here, two instances named `garage1` and `garage2`), and then call class methods on those instances:"
   ]
  },
  {
   "cell_type": "code",
   "execution_count": 2,
   "metadata": {},
   "outputs": [
    {
     "name": "stdout",
     "output_type": "stream",
     "text": [
      "--- Garage 1 ---\n",
      "Employees:  0\n",
      "--- Garage 2 ---\n",
      "Employees:  0\n"
     ]
    }
   ],
   "source": [
    "# Declaration of two instances of class Garage\n",
    "garage1 = Garage() # this is an instance\n",
    "garage2 = Garage()\n",
    "\n",
    "# At any time, the method affiche_informations() can be used to check the status of internal attributes :\n",
    "print('--- Garage 1 ---')\n",
    "garage1.display_information() \n",
    "print('--- Garage 2 ---')\n",
    "garage2.display_information()"
   ]
  },
  {
   "attachments": {},
   "cell_type": "markdown",
   "metadata": {},
   "source": [
    "We can notice that for each instance, the internal attribute `self.number_employees` has been initialized with the value 0. The methods `recrute_employees(self, number_employees)` and `dismissed_employees(self, number_employees)` will allow to modify the value of this internal attribute:"
   ]
  },
  {
   "cell_type": "code",
   "execution_count": 3,
   "metadata": {},
   "outputs": [
    {
     "name": "stdout",
     "output_type": "stream",
     "text": [
      "--- Garage 1 ---\n",
      "Employees:  3\n",
      "--- Garage 2 ---\n",
      "Employees:  2\n"
     ]
    }
   ],
   "source": [
    "# We're recruiting 3 employees in Garage 1 \n",
    "garage1.recrute_employees(3)\n",
    "# We're recruiting 2 employees in Garage 2\n",
    "garage2.recrute_employees(2)\n",
    "\n",
    "print('--- Garage 1 ---')\n",
    "garage1.display_information() \n",
    "print('--- Garage 2 ---')\n",
    "garage2.display_information()"
   ]
  },
  {
   "cell_type": "code",
   "execution_count": 4,
   "metadata": {},
   "outputs": [
    {
     "name": "stdout",
     "output_type": "stream",
     "text": [
      "--- Garage 1 ---\n",
      "Employees:  1\n",
      "--- Garage 2 ---\n",
      "Employees:  2\n"
     ]
    }
   ],
   "source": [
    "# We're laying off 2 employees in garage 1\n",
    "garage1.dismissed_employees(2)\n",
    "\n",
    "print('--- Garage 1 ---')\n",
    "garage1.display_information() \n",
    "print('--- Garage 2 ---')\n",
    "garage2.display_information()"
   ]
  },
  {
   "cell_type": "markdown",
   "metadata": {},
   "source": [
    "#### Let's handle exceptions\n",
    "As it stands, it is possible to pass any argument to our methods, which can give rise to inconsistencies: "
   ]
  },
  {
   "cell_type": "code",
   "execution_count": 5,
   "metadata": {},
   "outputs": [
    {
     "name": "stdout",
     "output_type": "stream",
     "text": [
      "Employees:  -4\n"
     ]
    }
   ],
   "source": [
    "garage1.dismissed_employees(5)\n",
    "garage1.display_information()"
   ]
  },
  {
   "cell_type": "markdown",
   "metadata": {},
   "source": [
    "In fact, we know that we cannot lay off more employees than the total number of employees in the garage. We're going to change the method ```dismissed_employees()``` and use the instruction ```raise``` to prevent this :"
   ]
  },
  {
   "cell_type": "code",
   "execution_count": 6,
   "metadata": {},
   "outputs": [],
   "source": [
    "# We re-declare the Garage class by changing the redundant_employees method\n",
    "\n",
    "class Garage():\n",
    "    # Attribute initialization - a special method is used: __init__()\n",
    "    # Here, all instances of the Garage class will be initialized to zero\n",
    "    def __init__(self):\n",
    "        self.employees = 0\n",
    "    \n",
    "    # Declaration/definition of methods\n",
    "    def recrute_employees(self, number_employees):\n",
    "        self.employees += number_employees\n",
    "    \n",
    "    def dismissed_employees(self, number_employees):\n",
    "        if number_employees > self.employees:\n",
    "            raise ValueError(\"There are currently {} employees in the garage. You can't fire any of them.\"\n",
    "                            .format(self.employees, number_employees))\n",
    "        else:\n",
    "            self.employees -= number_employees\n",
    "        \n",
    "    def display_information(self):\n",
    "        print(\"Employees : \", self.employees)\n",
    "        "
   ]
  },
  {
   "cell_type": "code",
   "execution_count": 7,
   "metadata": {},
   "outputs": [
    {
     "name": "stdout",
     "output_type": "stream",
     "text": [
      "--- Garage 1 ---\n",
      "Employees :  3\n",
      "--- Garage 2 ---\n",
      "Employees :  2\n"
     ]
    }
   ],
   "source": [
    "# Let's declare instances of this new class :\n",
    "garage1 = Garage()\n",
    "garage2 = Garage()\n",
    "garage1.recrute_employees(3)\n",
    "garage2.recrute_employees(2)\n",
    "\n",
    "print('--- Garage 1 ---')\n",
    "garage1.display_information() \n",
    "print('--- Garage 2 ---')\n",
    "garage2.display_information()"
   ]
  },
  {
   "cell_type": "markdown",
   "metadata": {},
   "source": [
    "Now, if we call licencie_employes() with an inconsistent value, the code will bug:"
   ]
  },
  {
   "cell_type": "code",
   "execution_count": 8,
   "metadata": {
    "scrolled": true
   },
   "outputs": [
    {
     "ename": "ValueError",
     "evalue": "There are currently 2 employees in the garage. You can't fire any of them.",
     "output_type": "error",
     "traceback": [
      "\u001b[0;31m---------------------------------------------------------------------------\u001b[0m",
      "\u001b[0;31mValueError\u001b[0m                                Traceback (most recent call last)",
      "Cell \u001b[0;32mIn[8], line 2\u001b[0m\n\u001b[1;32m      1\u001b[0m \u001b[38;5;66;03m# The code above produces an error\u001b[39;00m\n\u001b[0;32m----> 2\u001b[0m garage2\u001b[38;5;241m.\u001b[39mdismissed_employees(\u001b[38;5;241m4\u001b[39m)\n",
      "Cell \u001b[0;32mIn[6], line 15\u001b[0m, in \u001b[0;36mGarage.dismissed_employees\u001b[0;34m(self, number_employees)\u001b[0m\n\u001b[1;32m     13\u001b[0m \u001b[38;5;28;01mdef\u001b[39;00m \u001b[38;5;21mdismissed_employees\u001b[39m(\u001b[38;5;28mself\u001b[39m, number_employees):\n\u001b[1;32m     14\u001b[0m     \u001b[38;5;28;01mif\u001b[39;00m number_employees \u001b[38;5;241m>\u001b[39m \u001b[38;5;28mself\u001b[39m\u001b[38;5;241m.\u001b[39memployees:\n\u001b[0;32m---> 15\u001b[0m         \u001b[38;5;28;01mraise\u001b[39;00m \u001b[38;5;167;01mValueError\u001b[39;00m(\u001b[38;5;124m\"\u001b[39m\u001b[38;5;124mThere are currently \u001b[39m\u001b[38;5;132;01m{}\u001b[39;00m\u001b[38;5;124m employees in the garage. You can\u001b[39m\u001b[38;5;124m'\u001b[39m\u001b[38;5;124mt fire any of them.\u001b[39m\u001b[38;5;124m\"\u001b[39m\n\u001b[1;32m     16\u001b[0m                         \u001b[38;5;241m.\u001b[39mformat(\u001b[38;5;28mself\u001b[39m\u001b[38;5;241m.\u001b[39memployees, number_employees))\n\u001b[1;32m     17\u001b[0m     \u001b[38;5;28;01melse\u001b[39;00m:\n\u001b[1;32m     18\u001b[0m         \u001b[38;5;28mself\u001b[39m\u001b[38;5;241m.\u001b[39memployees \u001b[38;5;241m-\u001b[39m\u001b[38;5;241m=\u001b[39m number_employees\n",
      "\u001b[0;31mValueError\u001b[0m: There are currently 2 employees in the garage. You can't fire any of them."
     ]
    }
   ],
   "source": [
    "# The code above produces an error\n",
    "garage2.dismissed_employees(4)"
   ]
  },
  {
   "cell_type": "markdown",
   "metadata": {},
   "source": [
    "As seen in the previous lesson, we can use the try/except clauses to avoid bugging the cell :"
   ]
  },
  {
   "cell_type": "code",
   "execution_count": null,
   "metadata": {},
   "outputs": [
    {
     "name": "stdout",
     "output_type": "stream",
     "text": [
      "Unable to update the number of employees. Error returned by the method :\n",
      "There are currently 2 employees in the garage. You can't fire any of them.\n"
     ]
    }
   ],
   "source": [
    "try:\n",
    "    garage2.dismissed_employees(4)\n",
    "except ValueError as e:\n",
    "    print(\"Unable to update the number of employees. Error returned by the method :\")\n",
    "    print(e)\n",
    "    "
   ]
  },
  {
   "cell_type": "markdown",
   "metadata": {},
   "source": [
    "#### Let's add more attributes and methods to enrich our Garage class\n",
    "We will now add more internal attributes:\n",
    "* `self.clients` : the number of clients in the garage\n",
    "* `self.cars_to_repair`: the number of cars waiting to be repaired.\n",
    "* `self.cars_repaired`: the number of cars repaired since the garage opened.\n",
    "\n",
    "As well as the methods to update these attributes:\n",
    "* `client_bring_cars(self, car_number, new_client)`\n",
    "* `repare_cars(self, nb_cars)`"
   ]
  },
  {
   "cell_type": "code",
   "execution_count": null,
   "metadata": {},
   "outputs": [],
   "source": [
    "# Definition of the class with its attributes and methods\n",
    "\n",
    "class Garage():\n",
    "    # Attribute initialization - a special method is used: __init__()\n",
    "    # Here, all instances of the Garage class will be initialized to zero\n",
    "    def __init__(self):\n",
    "        self.employees = 0\n",
    "        self.clients = 0\n",
    "        self.cars_to_repair = 0\n",
    "        self.cars_repaired = 0\n",
    "    \n",
    "    # Declaration/definition of methods\n",
    "    def recrute_employees(self, number_employees):\n",
    "        self.employees += number_employees\n",
    "    \n",
    "    def dismissed_employees(self, number_employees):\n",
    "        if number_employees > self.employees:\n",
    "            raise ValueError(\"There are currently {} employees in the garage. You can't fire any of them.\"\n",
    "                            .format(self.employees, number_employees))\n",
    "        self.employees -= number_employees\n",
    "        \n",
    "    def client_bring_cars(self, number_cars, new_client): # Multi-argument method\n",
    "        self.cars_to_repair += number_cars\n",
    "        if new_client: # if the new_client variable is True\n",
    "            self.clients += 1  \n",
    "        \n",
    "    def repare_cars(self, nb_cars):\n",
    "        if nb_cars > self.cars_to_repair :\n",
    "            raise ValueError(\"There are currently {} cars in the garage. You can't fix them. {}\"\n",
    "                            .format(self.cars_to_repair, nb_cars))\n",
    "        self.cars_repaired += nb_cars\n",
    "        self.cars_to_repair -= nb_cars\n",
    "        \n",
    "    def display_information(self):\n",
    "        print(\"Employees : \", self.employees)\n",
    "        print(\"Clients : \", self.clients)\n",
    "        print(\"Cars to repare : \", self.cars_to_repair)\n",
    "        print(\"Cars repaired : \", self.cars_repaired)\n",
    "        "
   ]
  },
  {
   "cell_type": "code",
   "execution_count": null,
   "metadata": {
    "tags": []
   },
   "outputs": [
    {
     "ename": "AttributeError",
     "evalue": "'Garage' object has no attribute 'client_bring_cars'",
     "output_type": "error",
     "traceback": [
      "\u001b[0;31m---------------------------------------------------------------------------\u001b[0m",
      "\u001b[0;31mAttributeError\u001b[0m                            Traceback (most recent call last)",
      "Cell \u001b[0;32mIn[25], line 6\u001b[0m\n\u001b[1;32m      4\u001b[0m garage1\u001b[38;5;241m.\u001b[39mrecrute_employees(\u001b[38;5;241m3\u001b[39m)\n\u001b[1;32m      5\u001b[0m \u001b[38;5;66;03m# A customer brings his car into the garage1\u001b[39;00m\n\u001b[0;32m----> 6\u001b[0m garage1\u001b[38;5;241m.\u001b[39mclient_bring_cars(\u001b[38;5;241m1\u001b[39m,new_client\u001b[38;5;241m=\u001b[39m\u001b[38;5;28;01mTrue\u001b[39;00m)\n\u001b[1;32m      7\u001b[0m \u001b[38;5;66;03m# Same customer comes back with another car to repair.\u001b[39;00m\n\u001b[1;32m      8\u001b[0m garage1\u001b[38;5;241m.\u001b[39mclient_bring_cars(\u001b[38;5;241m1\u001b[39m, new_client\u001b[38;5;241m=\u001b[39m\u001b[38;5;28;01mFalse\u001b[39;00m)\n",
      "\u001b[0;31mAttributeError\u001b[0m: 'Garage' object has no attribute 'client_bring_cars'"
     ]
    }
   ],
   "source": [
    "# Let's declare an instance of this new class :\n",
    "garage1 = Garage()\n",
    "# We are recruiting 3 employees\n",
    "garage1.recrute_employees(3)\n",
    "# A customer brings his car into the garage1\n",
    "garage1.client_bring_cars(1,new_client=True)\n",
    "# Same customer comes back with another car to repair.\n",
    "garage1.client_bring_cars(1, new_client=False)\n",
    "# Another customer brings two cars\n",
    "garage1.client_bring_cars(2,new_client=True)\n",
    "print('--- Garage 1 ---')\n",
    "garage1.display_information()"
   ]
  },
  {
   "cell_type": "code",
   "execution_count": null,
   "metadata": {
    "tags": []
   },
   "outputs": [
    {
     "name": "stdout",
     "output_type": "stream",
     "text": [
      "--- Garage 1 ---\n",
      "Employees :  3\n",
      "Clients :  2\n",
      "Cars to repare :  1\n",
      "Cars repaired :  3\n"
     ]
    }
   ],
   "source": [
    "# The employees are repairing 3 cars :\n",
    "garage1.repare_cars(3)\n",
    "print('--- Garage 1 ---')\n",
    "garage1.display_information() "
   ]
  },
  {
   "cell_type": "markdown",
   "metadata": {},
   "source": [
    "#### Let's change the initial values of the attributes by adding arguments to `__init()__`.\n",
    "Now imagine that we buy a garage that already has employees and customers. In this case, we no longer want to initialize the attributes to 0 but with the information corresponding to the day of acquisition. We can do this by passing arguments to the method ```__init()__`````."
   ]
  },
  {
   "cell_type": "code",
   "execution_count": null,
   "metadata": {},
   "outputs": [],
   "source": [
    "# Definition of the class with its attributes and methods\n",
    "\n",
    "class Garage():\n",
    "    # Attribute initialization - a special method is used: __init__()\n",
    "    # Here we add arguments inside the __init__\n",
    "    def __init__(self, employees, clients, cars_to_repair, cars_repaired):\n",
    "        self.employees = employees\n",
    "        self.clients = clients\n",
    "        self.cars_to_repair = cars_to_repair\n",
    "        self.cars_repaired = cars_repaired\n",
    "    \n",
    "    # Declaration/definition of methods\n",
    "    def recrute_employees(self, number_employees):\n",
    "        self.employees += number_employees\n",
    "    \n",
    "    def dismissed_employees(self, number_employees):\n",
    "        if number_employees > self.employees:\n",
    "            raise ValueError(\"There are currently {} employees in the garage. You can't fire any of them. {}\"\n",
    "                            .format(self.employees, number_employees))\n",
    "        self.employees -= number_employees\n",
    "        \n",
    "    def client_bring_cars(self, number_cars, new_client): \n",
    "        self.cars_to_repair += number_cars\n",
    "        if new_client: \n",
    "            self.clients += 1  \n",
    "        \n",
    "    def repare_cars(self, nb_cars):\n",
    "        if nb_cars > self.cars_to_repair :\n",
    "            raise ValueError(\"There are currently {} cars in the garage. You can't fix them. {}\"\n",
    "                            .format(self.cars_to_repair, nb_cars))\n",
    "        self.cars_repaired += nb_cars\n",
    "        self.cars_to_repair -= nb_cars\n",
    "        \n",
    "    def display_information(self):\n",
    "        print(\"Employees : \", self.employees)\n",
    "        print(\"Clients : \", self.clients)\n",
    "        print(\"Cars to repair : \", self.cars_to_repair)\n",
    "        print(\"Cars repaired : \", self.cars_repaired)\n",
    "        "
   ]
  },
  {
   "cell_type": "code",
   "execution_count": null,
   "metadata": {
    "tags": []
   },
   "outputs": [
    {
     "name": "stdout",
     "output_type": "stream",
     "text": [
      "Employees :  3\n",
      "Clients :  2\n",
      "Cars to repair :  1\n",
      "Cars repaired :  1\n"
     ]
    }
   ],
   "source": [
    "# We can now create an instance of the Garage class like this :\n",
    "garage1 = Garage(3, 2, 1, 1)\n",
    "garage1.display_information()"
   ]
  },
  {
   "cell_type": "markdown",
   "metadata": {},
   "source": [
    "## Use default arguments so that you don't have to specify certain values\n",
    "However, the purchase of an existing garage is rare. Most of the time, the attributes will have to be initialized to 0 and we would like to avoid having to call the Garage class all the time by writing: ```garage2 = Garage(0, 0, 0)```\n",
    "To do this, we will define default arguments in the  ```__init__()```:"
   ]
  },
  {
   "cell_type": "code",
   "execution_count": null,
   "metadata": {},
   "outputs": [],
   "source": [
    "# Definition of the class with its attributes and methods\n",
    "\n",
    "class Garage():\n",
    "    # Attribute initialization - using a special method : __init__()\n",
    "    # Here, default arguments have been added\n",
    "    def __init__(self, employees = 0, clients = 0, cars_to_repair = 0, cars_repaired = 0): \n",
    "        self.employees = employees\n",
    "        self.clients = clients\n",
    "        self.cars_to_repair = cars_to_repair\n",
    "        self.cars_repaired = cars_repaired\n",
    "    \n",
    "    # Declaration/definition of methods\n",
    "    def recrute_employees(self, number_employees):\n",
    "        self.employees += number_employees\n",
    "    \n",
    "    def dismissed_employee(self, number_employees):\n",
    "        if number_employees > self.employees:\n",
    "            raise ValueError(\"There are currently {} employees in the garage. You can't fire any of them. {}\"\n",
    "                            .format(self.employees, number_employees))\n",
    "        self.employees -= number_employees\n",
    "        \n",
    "    def client_bring_cars(self, number_cars, new_client): \n",
    "        self.cars_to_repair += number_cars\n",
    "        if new_client: \n",
    "            self.clients += 1  \n",
    "        \n",
    "    def cars_repaired(self, nb_cars):\n",
    "        if nb_cars > self.cars_to_repair :\n",
    "            raise ValueError(\"There are currently {} cars in the garage. You can't fix them. {}\"\n",
    "                            .format(self.cars_to_repair, nb_cars))\n",
    "        self.cars_repaired += nb_cars\n",
    "        self.cars_to_repair -= nb_cars\n",
    "        \n",
    "    def display_information(self):\n",
    "        print(\"Employees : \", self.employees)\n",
    "        print(\"Clients : \", self.clients)\n",
    "        print(\"Cars to repair : \", self.cars_to_repair)\n",
    "        print(\"Cars repaired : \", self.cars_repaired)\n",
    "        "
   ]
  },
  {
   "cell_type": "code",
   "execution_count": null,
   "metadata": {
    "tags": []
   },
   "outputs": [
    {
     "name": "stdout",
     "output_type": "stream",
     "text": [
      "--- Garage 1 ---\n",
      "Employees :  0\n",
      "Clients :  0\n",
      "Cars to repair :  0\n",
      "Cars repaired :  0\n",
      "--- Garage 2 ---\n",
      "Employees :  4\n",
      "Clients :  2\n",
      "Cars to repair :  3\n",
      "Cars repaired :  1\n"
     ]
    }
   ],
   "source": [
    "# We can now create an instance of the Garage class like this :\n",
    "garage1 = Garage()\n",
    "# Or by specifying values for the attributes :\n",
    "garage2 = Garage(4, 2, 3, 1)\n",
    "\n",
    "print('--- Garage 1 ---')\n",
    "garage1.display_information() \n",
    "print('--- Garage 2 ---')\n",
    "garage2.display_information()"
   ]
  },
  {
   "cell_type": "code",
   "execution_count": 53,
   "metadata": {},
   "outputs": [
    {
     "name": "stdout",
     "output_type": "stream",
     "text": [
      " Marca: Honda | Cor: Red | Potencia: 2.0 \n",
      " Marca: Honda | Cor: Red | Potencia: 2.0 \n"
     ]
    },
    {
     "data": {
      "text/plain": [
       "' Marca: Honda | Cor: Red | Potencia: 2.0 '"
      ]
     },
     "execution_count": 53,
     "metadata": {},
     "output_type": "execute_result"
    }
   ],
   "source": [
    "class Car:\n",
    "    def __init__ (self, marca, cor, potencia):\n",
    "\n",
    "        self.marca = marca\n",
    "        self.cor = cor\n",
    "        self.potencia = potencia\n",
    "    \n",
    "    def show_car_info(self):\n",
    "        return f\" Marca: {self.marca} | Cor: {self.cor} | Potencia: {self.potencia} \"\n",
    "\n",
    "\n",
    "carro1 = Car(\"Honda\", \"Red\", 2.0)\n",
    "\n",
    "\n",
    "print(carro1.show_car_info())\n",
    "print(Car.show_car_info(carro1))\n",
    "carro1.show_car_info()\n",
    "    \n"
   ]
  },
  {
   "cell_type": "markdown",
   "metadata": {},
   "source": [
    "## Resources 📚📚\n",
    "\n",
    "* Introduction to Python - Antoine Krajnc-Rosenthal & Anais Armandy\n",
    "* [Official documentation of _datetime_](http://bit.ly/2OkC8VC)\n"
   ]
  }
 ],
 "metadata": {
  "kernelspec": {
   "display_name": "base",
   "language": "python",
   "name": "python3"
  },
  "language_info": {
   "codemirror_mode": {
    "name": "ipython",
    "version": 3
   },
   "file_extension": ".py",
   "mimetype": "text/x-python",
   "name": "python",
   "nbconvert_exporter": "python",
   "pygments_lexer": "ipython3",
   "version": "3.12.7"
  }
 },
 "nbformat": 4,
 "nbformat_minor": 2
}
