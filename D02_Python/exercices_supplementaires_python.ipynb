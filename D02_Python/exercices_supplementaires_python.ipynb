{
 "cells": [
  {
   "cell_type": "markdown",
   "metadata": {
    "id": "UhOM0fQbo0D_"
   },
   "source": [
    "## Exercice 1\n",
    "1) Ecrire un script python permettant de vérifier que la liste `l1=[8,6,5,9,5,10]` contient la valeur 10 en affichant \"La liste contient la valeur 10\" si c'est le cas et \"la liste ne contient pas la valeur 10\" dans le cas contraire.\n",
    "\n",
    "1) Ecrire un script python permettant de vérifier que la liste `l2=[8,6,5,9,5,20]` contient la valeur 10 en affichant \"La liste contient la valeur 10\" si c'est le cas et \"la liste ne contient pas la valeur 10\" dans le cas contraire.\n"
   ]
  },
  {
   "cell_type": "code",
   "execution_count": 76,
   "metadata": {
    "colab": {
     "base_uri": "https://localhost:8080/"
    },
    "executionInfo": {
     "elapsed": 13,
     "status": "ok",
     "timestamp": 1673708160435,
     "user": {
      "displayName": "Antoine Doizé",
      "userId": "16485082933998617539"
     },
     "user_tz": -60
    },
    "id": "IJuKLJ7ex3JF",
    "outputId": "616c1c8a-da72-4749-f19c-22496820b235"
   },
   "outputs": [
    {
     "name": "stdout",
     "output_type": "stream",
     "text": [
      "la liste contient la valeur 10\n"
     ]
    }
   ],
   "source": [
    "l1 = [8,6,5,9,5,10]\n",
    "if 10 in l1:\n",
    "    print(\"la liste contient la valeur 10\")\n",
    "else:\n",
    "    print(\"la liste ne contient pas la valeur 10\") "
   ]
  },
  {
   "cell_type": "code",
   "execution_count": 77,
   "metadata": {},
   "outputs": [
    {
     "name": "stdout",
     "output_type": "stream",
     "text": [
      "la liste contient la valeur 10\n"
     ]
    }
   ],
   "source": [
    "l2 = [8,6,5,9,5,20]\n",
    "if 10 in l1:\n",
    "    print(\"la liste contient la valeur 10\")\n",
    "else:\n",
    "    print(\"la liste ne contient pas la valeur 10\") "
   ]
  },
  {
   "cell_type": "code",
   "execution_count": 78,
   "metadata": {},
   "outputs": [
    {
     "name": "stdout",
     "output_type": "stream",
     "text": [
      "0\n",
      "1\n",
      "2\n",
      "3\n",
      "4\n",
      "5\n",
      "la liste contient la valeur 10\n"
     ]
    }
   ],
   "source": [
    "# flag = False\n",
    "# for x in l1:\n",
    "#     if x == 10:\n",
    "#         flag = True\n",
    "#         break\n",
    "\n",
    "\n",
    "flag = False\n",
    "cpt = 0\n",
    "while (flag == False) and (cpt < len(l1)) :\n",
    "    print(cpt)\n",
    "    \n",
    "    if l1[cpt] == 10:\n",
    "        flag = True\n",
    "    cpt +=1\n",
    "if flag:\n",
    "    print(\"la liste contient la valeur 10\")\n",
    "else:\n",
    "    print(\"la liste ne contient pas la valeur 10\")"
   ]
  },
  {
   "cell_type": "code",
   "execution_count": null,
   "metadata": {
    "colab": {
     "base_uri": "https://localhost:8080/"
    },
    "executionInfo": {
     "elapsed": 5,
     "status": "ok",
     "timestamp": 1673119263086,
     "user": {
      "displayName": "Antoine Doizé",
      "userId": "16485082933998617539"
     },
     "user_tz": -60
    },
    "id": "KyL1vBCwo7oJ",
    "outputId": "53489b3f-780e-46fb-8f12-89162c4b581d"
   },
   "outputs": [],
   "source": []
  },
  {
   "cell_type": "markdown",
   "metadata": {
    "id": "M57v2hFdot7q"
   },
   "source": [
    "## Exercice 2\n",
    "1) Faire un script python permettant de vérifier que la liste [2,4,8,10] ne contient que des chiffres pair et qui affiche \"la liste ne contient que des chiffres pairs\" si c'est le cas et \"la liste ne contient pas que des chiffres pairs\" dans le cas contraire\n",
    "\n",
    "2) Faire un script python permettant de vérifier que la liste [2,4,8,11] ne contient que des chiffres pair et qui affiche \"la liste ne contient que des chiffres pairs\" si c'est le cas et \"la liste ne contient pas que des chiffres pairs\" dans le cas contraire"
   ]
  },
  {
   "cell_type": "code",
   "execution_count": 88,
   "metadata": {
    "colab": {
     "base_uri": "https://localhost:8080/"
    },
    "executionInfo": {
     "elapsed": 6,
     "status": "ok",
     "timestamp": 1673119263085,
     "user": {
      "displayName": "Antoine Doizé",
      "userId": "16485082933998617539"
     },
     "user_tz": -60
    },
    "id": "CS8lo5BToH7Q",
    "outputId": "9d6622c3-5f99-4cdb-a926-8ed27e825875"
   },
   "outputs": [
    {
     "name": "stdout",
     "output_type": "stream",
     "text": [
      "la liste ne contient que des chiffres pairs\n"
     ]
    }
   ],
   "source": [
    "def pair_verification(lista):\n",
    "   \n",
    "    for number in lista:\n",
    "        if number % 2 != 0:  # si les chiffres sont impairs\n",
    "            print(\"la liste ne contient pas que des chiffres pairs\")\n",
    "        else:\n",
    "            print (\"la liste ne contient que des chiffres pairs\")\n",
    "        break\n",
    "\n",
    "\n",
    "lista_1 = [2, 4, 8, 10]\n",
    "\n",
    "result = pair_verification(lista_1)"
   ]
  },
  {
   "cell_type": "code",
   "execution_count": 80,
   "metadata": {
    "id": "KXDTmsG6zQ3B"
   },
   "outputs": [
    {
     "name": "stdout",
     "output_type": "stream",
     "text": [
      "la liste ne contient que des chiffres pairs\n"
     ]
    }
   ],
   "source": [
    "lista_2 = [2,4,8,11]\n",
    "result = pair_verification(lista_2)"
   ]
  },
  {
   "cell_type": "markdown",
   "metadata": {
    "id": "HqmGuNjFrd2O"
   },
   "source": [
    "## Exercice 3\n",
    "\n",
    "1) Ecrire un script python permettant de trouver et d'afficher la valeur maximale de la liste `l1=[0,10,5,2,6,84,5,1,90,3]`\n",
    "\n",
    "2) Ecrire un script python permettant de trouver et d'afficher la valeur maximale de la liste `l2=[0,10,5,2,6,84,5,1,7,3]`\n"
   ]
  },
  {
   "cell_type": "code",
   "execution_count": 86,
   "metadata": {
    "colab": {
     "base_uri": "https://localhost:8080/"
    },
    "executionInfo": {
     "elapsed": 306,
     "status": "ok",
     "timestamp": 1673708571157,
     "user": {
      "displayName": "Antoine Doizé",
      "userId": "16485082933998617539"
     },
     "user_tz": -60
    },
    "id": "vCiwJSSYryZ0",
    "outputId": "9a7b00a3-3cb8-4cc1-d5cc-2e419ca5bc07"
   },
   "outputs": [
    {
     "name": "stdout",
     "output_type": "stream",
     "text": [
      "la valeur maximale de la liste est: 90\n"
     ]
    }
   ],
   "source": [
    "   \"\"\"\n",
    "    Encontra o valor máximo em uma lista de números.\n",
    "    \n",
    "    Args:\n",
    "        lista (l1): Lista de números.\n",
    "    \n",
    "    Returns:\n",
    "        float or int: O maior valor na lista.\n",
    "    \"\"\"\n",
    "def found_max(lista):\n",
    " \n",
    "    return max(lista)\n",
    "\n",
    "l1 = [0, 10, 5, 2, 6, 84, 5, 1, 90, 3]\n",
    "\n",
    "# Encontra e exibe o valor máximo\n",
    "resultado = found_max(l1)\n",
    "print(f\"la valeur maximale de la liste est: {resultado}\")"
   ]
  },
  {
   "cell_type": "code",
   "execution_count": 82,
   "metadata": {},
   "outputs": [
    {
     "name": "stdout",
     "output_type": "stream",
     "text": [
      "la valeur maximale de la liste est: 84\n"
     ]
    }
   ],
   "source": [
    "l2 = [0, 10, 5, 2, 6, 84, 5, 1, 7, 3]\n",
    "resultado = found_max(l2)\n",
    "print(f\"la valeur maximale de la liste est: {resultado}\")"
   ]
  },
  {
   "cell_type": "markdown",
   "metadata": {
    "id": "nAj_Y7Gvoc3v"
   },
   "source": [
    "## Exercice 4\n",
    "1) Faire un script python permettant de vérifier que la liste [2,4,8,10] est rangée dans l'ordre croissant et qui affiche \"la liste set rangée dans l'ordre croissant\" si c'est le cas et \"la liste n'est pas rangée dans l'ordre croissant\" dans le cas contraire\n",
    "\n",
    "1) Faire un script python permettant de vérifier que la liste [2,8,4,10] est rangée dans l'ordre croissant et qui affiche \"la liste set rangée dans l'ordre croissant\" si c'est le cas et \"la liste n'est pas rangée dans l'ordre croissant\" dans le cas contraire"
   ]
  },
  {
   "cell_type": "code",
   "execution_count": 83,
   "metadata": {
    "colab": {
     "base_uri": "https://localhost:8080/"
    },
    "executionInfo": {
     "elapsed": 227,
     "status": "ok",
     "timestamp": 1673202663591,
     "user": {
      "displayName": "Antoine Doizé",
      "userId": "16485082933998617539"
     },
     "user_tz": -60
    },
    "id": "DvI2ZicJoqke",
    "outputId": "96b13903-0e0e-43b4-c163-cb09eb6e77e3"
   },
   "outputs": [
    {
     "name": "stdout",
     "output_type": "stream",
     "text": [
      "the list is sorted in ascending order\n"
     ]
    }
   ],
   "source": [
    "def is_sorted_ascending(lista):\n",
    "    \"\"\"\n",
    "    Verifica se a lista está ordenada em ordem crescente.\n",
    "    \n",
    "    Args:\n",
    "        lista (list): Lista de números a ser verificada.\n",
    "    \n",
    "    Returns:\n",
    "        str: Mensagem indicando se a lista está ordenada em ordem crescente.\n",
    "    \"\"\"\n",
    "    for i in range(len(lista) - 1):\n",
    "        if lista[i] > lista[i + 1]:\n",
    "            return \"the list is not sorted in ascending order\"\n",
    "    return \"the list is sorted in ascending order\"\n",
    "\n",
    "# Lista de teste\n",
    "numeros = [2, 4, 8, 10]\n",
    "\n",
    "# Executa a verificação e exibe o resultado\n",
    "resultado = is_sorted_ascending(numeros)\n",
    "print(resultado)"
   ]
  },
  {
   "cell_type": "code",
   "execution_count": 84,
   "metadata": {},
   "outputs": [
    {
     "name": "stdout",
     "output_type": "stream",
     "text": [
      "the list is not sorted in ascending order\n"
     ]
    }
   ],
   "source": [
    "numeros_2 = [2,8,4,10]\n",
    "print(is_sorted_ascending(numeros_2))\n"
   ]
  },
  {
   "cell_type": "markdown",
   "metadata": {
    "id": "lMvDvg9m9_3F"
   },
   "source": [
    "## Exercice 5\n",
    "1) Ecrire une fonction en python permettant de vérifier qu'une  contient la valeur 10 en affichant \"La liste contient la valeur 10\" si c'est le cas et \"la liste ne contient pas la valeur 10\" dans le cas contraire.\n",
    "\n",
    "Tester cette fonction sur les listes `l1=[8,6,5,9,5,10]` et `l2=[8,6,5,9,5,20]`.\n",
    "\n"
   ]
  },
  {
   "cell_type": "code",
   "execution_count": 98,
   "metadata": {
    "colab": {
     "base_uri": "https://localhost:8080/"
    },
    "executionInfo": {
     "elapsed": 6,
     "status": "ok",
     "timestamp": 1673560797082,
     "user": {
      "displayName": "Antoine Doizé",
      "userId": "16485082933998617539"
     },
     "user_tz": -60
    },
    "id": "KpsahwkA-PzU",
    "outputId": "90c738a4-a868-42f7-87d2-c17f7bd2d2ad"
   },
   "outputs": [
    {
     "name": "stdout",
     "output_type": "stream",
     "text": [
      "The list contains the value 10\n",
      "The list does not contain the value 10\n"
     ]
    }
   ],
   "source": [
    "def check_value_10(lista):\n",
    "    \"\"\"\n",
    "    Verifica se a lista contém o valor 10.\n",
    "    \n",
    "    Args:\n",
    "        lista (list): Lista a ser verificada.\n",
    "    \n",
    "    Returns:\n",
    "        str: Mensagem indicando se a lista contém o valor 10 ou não.\n",
    "    \"\"\"\n",
    "    return \"The list contains the value 10\" if 10 in lista else \"The list does not contain the value 10\"\n",
    "\n",
    "# Exemplos de teste\n",
    "lista1 = [1, 3, 5, 10, 20]\n",
    "lista2 = [2, 4, 6, 8]\n",
    "\n",
    "print(check_value_10(lista1))\n",
    "print(check_value_10(lista2))"
   ]
  },
  {
   "cell_type": "markdown",
   "metadata": {
    "id": "4Bfgy-c6_Klb"
   },
   "source": [
    "## Exercice 6\n",
    "1) Ecrire une fonction en python permettant de vérifier qu'une liste ne contient que des chiffres pair et qui affiche \"la liste ne contient que des chiffres pairs\" si c'est le cas et \"la liste ne contient pas que des chiffres pairs\" dans le cas contraire.\n",
    "\n",
    "Appliquer cette fonction aux listes `l1 = [2,4,8,10]` et `l2= [2,4,8,11]`\n"
   ]
  },
  {
   "cell_type": "code",
   "execution_count": null,
   "metadata": {
    "colab": {
     "base_uri": "https://localhost:8080/"
    },
    "executionInfo": {
     "elapsed": 16,
     "status": "ok",
     "timestamp": 1673707124315,
     "user": {
      "displayName": "Antoine Doizé",
      "userId": "16485082933998617539"
     },
     "user_tz": -60
    },
    "id": "GmQJiBPu_J8S",
    "outputId": "62622be5-ec2a-4817-cd09-efbfc1fe21a4"
   },
   "outputs": [],
   "source": []
  },
  {
   "cell_type": "code",
   "execution_count": null,
   "metadata": {
    "id": "lk5M5FJmt8mC"
   },
   "outputs": [],
   "source": []
  },
  {
   "cell_type": "code",
   "execution_count": null,
   "metadata": {
    "id": "K4k1KE2it8oj"
   },
   "outputs": [],
   "source": []
  },
  {
   "cell_type": "code",
   "execution_count": null,
   "metadata": {
    "id": "b83ulSUqt8rD"
   },
   "outputs": [],
   "source": []
  },
  {
   "cell_type": "code",
   "execution_count": null,
   "metadata": {
    "id": "oQQwQuX7t8uP"
   },
   "outputs": [],
   "source": []
  },
  {
   "cell_type": "markdown",
   "metadata": {
    "id": "CqoHHW7_t9Wy"
   },
   "source": [
    "Divers"
   ]
  },
  {
   "cell_type": "code",
   "execution_count": null,
   "metadata": {
    "colab": {
     "base_uri": "https://localhost:8080/"
    },
    "executionInfo": {
     "elapsed": 4,
     "status": "ok",
     "timestamp": 1673707825529,
     "user": {
      "displayName": "Antoine Doizé",
      "userId": "16485082933998617539"
     },
     "user_tz": -60
    },
    "id": "he594vmot_dy",
    "outputId": "110cb734-0918-4e98-8382-857e71841ec3"
   },
   "outputs": [],
   "source": []
  }
 ],
 "metadata": {
  "colab": {
   "authorship_tag": "ABX9TyP1gETtsH0mzbFPJyflwPfC",
   "provenance": []
  },
  "kernelspec": {
   "display_name": "base",
   "language": "python",
   "name": "python3"
  },
  "language_info": {
   "codemirror_mode": {
    "name": "ipython",
    "version": 3
   },
   "file_extension": ".py",
   "mimetype": "text/x-python",
   "name": "python",
   "nbconvert_exporter": "python",
   "pygments_lexer": "ipython3",
   "version": "3.12.7"
  }
 },
 "nbformat": 4,
 "nbformat_minor": 0
}
